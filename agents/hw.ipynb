{
 "cells": [
  {
   "cell_type": "markdown",
   "id": "1a8e2ba0",
   "metadata": {},
   "source": [
    "##### In this homework, we will learn more about `function calling`, and we will also explore `MCP - model-context protocol`.\n",
    "\n"
   ]
  },
  {
   "cell_type": "markdown",
   "id": "153b13d8",
   "metadata": {},
   "source": [
    "### Preparation\n",
    "\n",
    "First, we'll define a function that we will use when building our agent.\n",
    "\n",
    "It will generate fake weather data:"
   ]
  },
  {
   "cell_type": "code",
   "execution_count": 1,
   "id": "c1fb965f",
   "metadata": {},
   "outputs": [],
   "source": [
    "import random\n",
    "\n",
    "known_weather_data = {\n",
    "    'berlin': 20.0\n",
    "}\n",
    "\n",
    "def get_weather(city: str) -> float:\n",
    "    city = city.strip().lower()\n",
    "\n",
    "    if city in known_weather_data:\n",
    "        return known_weather_data[city]\n",
    "\n",
    "    return round(random.uniform(-5, 35), 1)"
   ]
  },
  {
   "cell_type": "markdown",
   "id": "a060d481",
   "metadata": {},
   "source": [
    "### Q1. Define function description\n",
    "We want to use it as a tool for our agent, so we need to describe it\n",
    "\n",
    "How should the description for this function look like? Fill in missing parts\n"
   ]
  },
  {
   "cell_type": "code",
   "execution_count": null,
   "id": "ea690d71",
   "metadata": {},
   "outputs": [],
   "source": [
    "get_weather_tool = {\n",
    "    \"type\": \"function\",\n",
    "    \"name\": \"<TODO1>\",\n",
    "    \"description\": \"<TODO2>\",\n",
    "    \"parameters\": {\n",
    "        \"type\": \"object\",\n",
    "        \"properties\": {\n",
    "            \"<TODO3>\": {\n",
    "                \"type\": \"string\",\n",
    "                \"description\": \"<TODO4>\"\n",
    "            }\n",
    "        },\n",
    "        \"required\": [TODO5],\n",
    "        \"additionalProperties\": False\n",
    "    }\n",
    "}"
   ]
  },
  {
   "cell_type": "markdown",
   "id": "6525c18f",
   "metadata": {},
   "source": [
    "# What’s the goal?\n",
    "\n",
    "we’re preparing to wrap your Python function `get_weather(city: str)` into a machine-readable schema — something an AI agent (like a chatbot or LLM) can understand and call.\n",
    "\n",
    "This is part of a function-calling interface where the agent needs:\n",
    "\n",
    "- the name of the function\n",
    "\n",
    "\n",
    "- a description of what it does\n",
    "\n",
    "\n",
    "- what parameters it accepts\n",
    "\n",
    "\n",
    "- the types and descriptions of those parameters\n",
    "\n",
    "\n",
    "That way, when a user asks “What’s the weather in Paris?”, the agent knows:\n",
    "\n",
    "There's a tool called get_weather\n",
    "\n",
    "It takes a parameter named \"city\" which is a string\n",
    "\n",
    "It should call get_weather(city=\"paris\") to get the result\n",
    "\n",
    "\n",
    "```python\n",
    "\n",
    "get_weather_tool = {\n",
    "    \"type\": \"function\",\n",
    "    \"name\": \"get_weather\",  # TODO1\n",
    "    \"description\": \"Get the current weather for a given city.\",  # TODO2\n",
    "    \"parameters\": {\n",
    "        \"type\": \"object\",\n",
    "        \"properties\": {\n",
    "            \"city\": {  # TODO3\n",
    "                \"type\": \"string\",\n",
    "                \"description\": \"The name of the city to get the weather for.\"  # TODO4\n",
    "            }\n",
    "        },\n",
    "        \"required\": [\"city\"],  # TODO5\n",
    "        \"additionalProperties\": False\n",
    "    }\n",
    "}\n",
    "\n",
    "```"
   ]
  },
  {
   "cell_type": "markdown",
   "id": "c456a051",
   "metadata": {},
   "source": [
    "# `Q1-Answer -> city`"
   ]
  },
  {
   "cell_type": "markdown",
   "id": "2f65a63f",
   "metadata": {},
   "source": [
    "### Q2. Adding another tool\n",
    "\n",
    "Let's add another tool - a function that can add weather data to our database:\n",
    "\n"
   ]
  },
  {
   "cell_type": "code",
   "execution_count": 2,
   "id": "c027c85f",
   "metadata": {},
   "outputs": [],
   "source": [
    "def set_weather(city: str, temp: float) -> None:\n",
    "    city = city.strip().lower()\n",
    "    known_weather_data[city] = temp\n",
    "    return 'OK'"
   ]
  },
  {
   "cell_type": "markdown",
   "id": "8d23d558",
   "metadata": {},
   "source": [
    "# `Q2-Answer here`"
   ]
  },
  {
   "cell_type": "code",
   "execution_count": 3,
   "id": "e0224137",
   "metadata": {},
   "outputs": [],
   "source": [
    "set_weather_tool = {\n",
    "    \"type\": \"function\",\n",
    "    \"name\": \"set_weather\",\n",
    "    \"description\": \"Adds or updates the weather data for a given city.\",\n",
    "    \"parameters\": {\n",
    "        \"type\": \"object\",\n",
    "        \"properties\": {\n",
    "            \"city\": {\n",
    "                \"type\": \"string\",\n",
    "                \"description\": \"The name of the city to store weather data for.\"\n",
    "            },\n",
    "            \"temp\": {\n",
    "                \"type\": \"number\",\n",
    "                \"description\": \"The temperature value to be stored for the city.\"\n",
    "            }\n",
    "        },\n",
    "        \"required\": [\"city\", \"temp\"],\n",
    "        \"additionalProperties\": False\n",
    "    }\n",
    "}\n"
   ]
  },
  {
   "cell_type": "markdown",
   "id": "65d9ca54",
   "metadata": {},
   "source": [
    "### MCP\n",
    "\n",
    "MCP stands for Model-Context Protocol. It allows LLMs communicate with different tools (like Qdrant). It's function calling, but one step further:\n",
    "\n",
    "A tool can export a list of functions it has\n",
    "When we include the tool to our Agent, we just need to include the link to the MCP server\n",
    "\n",
    "\n",
    "> MCP lets large language models (LLMs) like GPT connect to external tools (e.g. Qdrant) over the network.\n",
    "\n",
    "> Instead of manually defining each function, you just provide a URL to the MCP server, and the model automatically:\n",
    "\n",
    "-  Discovers what functions the tool supports\n",
    "\n",
    "- Learns how to call them\n",
    "\n",
    "- Uses them dynamically\n",
    "\n",
    "##### example\n",
    "\n",
    "`agent.include_tool(\"https://your-tool.com/mcp\")`"
   ]
  },
  {
   "cell_type": "code",
   "execution_count": null,
   "id": "31ff33b8",
   "metadata": {},
   "outputs": [],
   "source": []
  }
 ],
 "metadata": {
  "kernelspec": {
   "display_name": "base",
   "language": "python",
   "name": "python3"
  },
  "language_info": {
   "codemirror_mode": {
    "name": "ipython",
    "version": 3
   },
   "file_extension": ".py",
   "mimetype": "text/x-python",
   "name": "python",
   "nbconvert_exporter": "python",
   "pygments_lexer": "ipython3",
   "version": "3.9.13"
  }
 },
 "nbformat": 4,
 "nbformat_minor": 5
}
