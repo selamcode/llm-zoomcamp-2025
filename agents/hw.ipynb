{
 "cells": [
  {
   "cell_type": "markdown",
   "id": "1a8e2ba0",
   "metadata": {},
   "source": [
    "##### In this homework, we will learn more about `function calling`, and we will also explore `MCP - model-context protocol`.\n",
    "\n"
   ]
  },
  {
   "cell_type": "markdown",
   "id": "153b13d8",
   "metadata": {},
   "source": [
    "### Preparation\n",
    "\n",
    "First, we'll define a function that we will use when building our agent.\n",
    "\n",
    "It will generate fake weather data:"
   ]
  },
  {
   "cell_type": "code",
   "execution_count": 5,
   "id": "c1fb965f",
   "metadata": {},
   "outputs": [],
   "source": [
    "import random\n",
    "\n",
    "known_weather_data = {\n",
    "    'berlin': 20.0\n",
    "}\n",
    "\n",
    "def get_weather(city: str) -> float:\n",
    "    city = city.strip().lower()\n",
    "\n",
    "    if city in known_weather_data:\n",
    "        return known_weather_data[city]\n",
    "\n",
    "    return round(random.uniform(-5, 35), 1)"
   ]
  },
  {
   "cell_type": "markdown",
   "id": "a060d481",
   "metadata": {},
   "source": [
    "### Q1. Define function description\n",
    "We want to use it as a tool for our agent, so we need to describe it\n",
    "\n",
    "How should the description for this function look like? Fill in missing parts\n"
   ]
  },
  {
   "cell_type": "markdown",
   "id": "25e56f07",
   "metadata": {},
   "source": [
    "``` python\n",
    "get_weather_tool = {\n",
    "    \"type\": \"function\",\n",
    "    \"name\": \"<TODO1>\",\n",
    "    \"description\": \"<TODO2>\",\n",
    "    \"parameters\": {\n",
    "        \"type\": \"object\",\n",
    "        \"properties\": {\n",
    "            \"<TODO3>\": {\n",
    "                \"type\": \"string\",\n",
    "                \"description\": \"<TODO4>\"\n",
    "            }\n",
    "        },\n",
    "        \"required\": [TODO5],\n",
    "        \"additionalProperties\": False\n",
    "    }\n",
    "}\n",
    "```"
   ]
  },
  {
   "cell_type": "markdown",
   "id": "6525c18f",
   "metadata": {},
   "source": [
    "# What’s the goal?\n",
    "\n",
    "we’re preparing to wrap your Python function `get_weather(city: str)` into a machine-readable schema — something an AI agent (like a chatbot or LLM) can understand and call.\n",
    "\n",
    "This is part of a function-calling interface where the agent needs:\n",
    "\n",
    "- the name of the function\n",
    "\n",
    "\n",
    "- a description of what it does\n",
    "\n",
    "\n",
    "- what parameters it accepts\n",
    "\n",
    "\n",
    "- the types and descriptions of those parameters\n",
    "\n",
    "\n",
    "That way, when a user asks “What’s the weather in Paris?”, the agent knows:\n",
    "\n",
    "There's a tool called get_weather\n",
    "\n",
    "It takes a parameter named \"city\" which is a string\n",
    "\n",
    "It should call get_weather(city=\"paris\") to get the result\n",
    "\n",
    "\n",
    "```python\n",
    "\n",
    "get_weather_tool = {\n",
    "    \"type\": \"function\",\n",
    "    \"name\": \"get_weather\",  # TODO1\n",
    "    \"description\": \"Get the current weather for a given city.\",  # TODO2\n",
    "    \"parameters\": {\n",
    "        \"type\": \"object\",\n",
    "        \"properties\": {\n",
    "            \"city\": {  # TODO3\n",
    "                \"type\": \"string\",\n",
    "                \"description\": \"The name of the city to get the weather for.\"  # TODO4\n",
    "            }\n",
    "        },\n",
    "        \"required\": [\"city\"],  # TODO5\n",
    "        \"additionalProperties\": False\n",
    "    }\n",
    "}\n",
    "\n",
    "```"
   ]
  },
  {
   "cell_type": "markdown",
   "id": "c456a051",
   "metadata": {},
   "source": [
    "# `Q1-Answer -> city`"
   ]
  },
  {
   "cell_type": "markdown",
   "id": "2f65a63f",
   "metadata": {},
   "source": [
    "### Q2. Adding another tool\n",
    "\n",
    "Let's add another tool - a function that can add weather data to our database:\n",
    "\n"
   ]
  },
  {
   "cell_type": "code",
   "execution_count": 6,
   "id": "c027c85f",
   "metadata": {},
   "outputs": [],
   "source": [
    "def set_weather(city: str, temp: float) -> None:\n",
    "    city = city.strip().lower()\n",
    "    known_weather_data[city] = temp\n",
    "    return 'OK'"
   ]
  },
  {
   "cell_type": "markdown",
   "id": "8d23d558",
   "metadata": {},
   "source": [
    "# `Q2-Answer here`"
   ]
  },
  {
   "cell_type": "code",
   "execution_count": 7,
   "id": "e0224137",
   "metadata": {},
   "outputs": [],
   "source": [
    "set_weather_tool = {\n",
    "    \"type\": \"function\",\n",
    "    \"name\": \"set_weather\",\n",
    "    \"description\": \"Adds or updates the weather data for a given city.\",\n",
    "    \"parameters\": {\n",
    "        \"type\": \"object\",\n",
    "        \"properties\": {\n",
    "            \"city\": {\n",
    "                \"type\": \"string\",\n",
    "                \"description\": \"The name of the city to store weather data for.\"\n",
    "            },\n",
    "            \"temp\": {\n",
    "                \"type\": \"number\",\n",
    "                \"description\": \"The temperature value to be stored for the city.\"\n",
    "            }\n",
    "        },\n",
    "        \"required\": [\"city\", \"temp\"],\n",
    "        \"additionalProperties\": False\n",
    "    }\n",
    "}\n"
   ]
  },
  {
   "cell_type": "markdown",
   "id": "65d9ca54",
   "metadata": {},
   "source": [
    "### MCP\n",
    "\n",
    "MCP stands for Model-Context Protocol. It allows LLMs communicate with different tools (like Qdrant). It's function calling, but one step further:\n",
    "\n",
    "A tool can export a list of functions it has\n",
    "When we include the tool to our Agent, we just need to include the link to the MCP server\n",
    "\n",
    "\n",
    "> MCP lets large language models (LLMs) like GPT connect to external tools (e.g. Qdrant) over the network.\n",
    "\n",
    "> Instead of manually defining each function, you just provide a URL to the MCP server, and the model automatically:\n",
    "\n",
    "-  Discovers what functions the tool supports\n",
    "\n",
    "- Learns how to call them\n",
    "\n",
    "- Uses them dynamically\n",
    "\n",
    "##### example\n",
    "\n",
    "`agent.include_tool(\"https://your-tool.com/mcp\")`"
   ]
  },
  {
   "cell_type": "markdown",
   "id": "23849f50",
   "metadata": {},
   "source": [
    "### Q3. Install FastMCP\n",
    "\n",
    "Let's install a library for MCP \n",
    "\n",
    "```python \n",
    "pip install fastmcp\n",
    "```"
   ]
  },
  {
   "cell_type": "code",
   "execution_count": 8,
   "id": "fb3d12f0",
   "metadata": {},
   "outputs": [
    {
     "name": "stderr",
     "output_type": "stream",
     "text": [
      "/Library/Frameworks/Python.framework/Versions/3.13/lib/python3.13/pty.py:95: DeprecationWarning: This process (pid=19270) is multi-threaded, use of forkpty() may lead to deadlocks in the child.\n",
      "  pid, fd = os.forkpty()\n"
     ]
    },
    {
     "name": "stdout",
     "output_type": "stream",
     "text": [
      "Requirement already satisfied: fastmcp in /Users/selamsew/Documents/llm-zoomcampl/.venv/lib/python3.13/site-packages (2.10.5)\n",
      "Requirement already satisfied: authlib>=1.5.2 in /Users/selamsew/Documents/llm-zoomcampl/.venv/lib/python3.13/site-packages (from fastmcp) (1.6.0)\n",
      "Requirement already satisfied: cyclopts>=3.0.0 in /Users/selamsew/Documents/llm-zoomcampl/.venv/lib/python3.13/site-packages (from fastmcp) (3.22.2)\n",
      "Requirement already satisfied: exceptiongroup>=1.2.2 in /Users/selamsew/Documents/llm-zoomcampl/.venv/lib/python3.13/site-packages (from fastmcp) (1.3.0)\n",
      "Requirement already satisfied: httpx>=0.28.1 in /Users/selamsew/Documents/llm-zoomcampl/.venv/lib/python3.13/site-packages (from fastmcp) (0.28.1)\n",
      "Requirement already satisfied: mcp>=1.10.0 in /Users/selamsew/Documents/llm-zoomcampl/.venv/lib/python3.13/site-packages (from fastmcp) (1.11.0)\n",
      "Requirement already satisfied: openapi-pydantic>=0.5.1 in /Users/selamsew/Documents/llm-zoomcampl/.venv/lib/python3.13/site-packages (from fastmcp) (0.5.1)\n",
      "Requirement already satisfied: pydantic>=2.11.7 in /Users/selamsew/Documents/llm-zoomcampl/.venv/lib/python3.13/site-packages (from pydantic[email]>=2.11.7->fastmcp) (2.11.7)\n",
      "Requirement already satisfied: pyperclip>=1.9.0 in /Users/selamsew/Documents/llm-zoomcampl/.venv/lib/python3.13/site-packages (from fastmcp) (1.9.0)\n",
      "Requirement already satisfied: python-dotenv>=1.1.0 in /Users/selamsew/Documents/llm-zoomcampl/.venv/lib/python3.13/site-packages (from fastmcp) (1.1.1)\n",
      "Requirement already satisfied: rich>=13.9.4 in /Users/selamsew/Documents/llm-zoomcampl/.venv/lib/python3.13/site-packages (from fastmcp) (14.0.0)\n",
      "Requirement already satisfied: cryptography in /Users/selamsew/Documents/llm-zoomcampl/.venv/lib/python3.13/site-packages (from authlib>=1.5.2->fastmcp) (45.0.5)\n",
      "Requirement already satisfied: attrs>=23.1.0 in /Users/selamsew/Documents/llm-zoomcampl/.venv/lib/python3.13/site-packages (from cyclopts>=3.0.0->fastmcp) (25.3.0)\n",
      "Requirement already satisfied: docstring-parser>=0.15 in /Users/selamsew/Documents/llm-zoomcampl/.venv/lib/python3.13/site-packages (from cyclopts>=3.0.0->fastmcp) (0.16)\n",
      "Requirement already satisfied: rich-rst<2.0.0,>=1.3.1 in /Users/selamsew/Documents/llm-zoomcampl/.venv/lib/python3.13/site-packages (from cyclopts>=3.0.0->fastmcp) (1.3.1)\n",
      "Requirement already satisfied: docutils in /Users/selamsew/Documents/llm-zoomcampl/.venv/lib/python3.13/site-packages (from rich-rst<2.0.0,>=1.3.1->cyclopts>=3.0.0->fastmcp) (0.21.2)\n",
      "Requirement already satisfied: anyio in /Users/selamsew/Documents/llm-zoomcampl/.venv/lib/python3.13/site-packages (from httpx>=0.28.1->fastmcp) (4.9.0)\n",
      "Requirement already satisfied: certifi in /Users/selamsew/Documents/llm-zoomcampl/.venv/lib/python3.13/site-packages (from httpx>=0.28.1->fastmcp) (2025.7.14)\n",
      "Requirement already satisfied: httpcore==1.* in /Users/selamsew/Documents/llm-zoomcampl/.venv/lib/python3.13/site-packages (from httpx>=0.28.1->fastmcp) (1.0.9)\n",
      "Requirement already satisfied: idna in /Users/selamsew/Documents/llm-zoomcampl/.venv/lib/python3.13/site-packages (from httpx>=0.28.1->fastmcp) (3.10)\n",
      "Requirement already satisfied: h11>=0.16 in /Users/selamsew/Documents/llm-zoomcampl/.venv/lib/python3.13/site-packages (from httpcore==1.*->httpx>=0.28.1->fastmcp) (0.16.0)\n",
      "Requirement already satisfied: httpx-sse>=0.4 in /Users/selamsew/Documents/llm-zoomcampl/.venv/lib/python3.13/site-packages (from mcp>=1.10.0->fastmcp) (0.4.1)\n",
      "Requirement already satisfied: jsonschema>=4.20.0 in /Users/selamsew/Documents/llm-zoomcampl/.venv/lib/python3.13/site-packages (from mcp>=1.10.0->fastmcp) (4.24.0)\n",
      "Requirement already satisfied: pydantic-settings>=2.5.2 in /Users/selamsew/Documents/llm-zoomcampl/.venv/lib/python3.13/site-packages (from mcp>=1.10.0->fastmcp) (2.10.1)\n",
      "Requirement already satisfied: python-multipart>=0.0.9 in /Users/selamsew/Documents/llm-zoomcampl/.venv/lib/python3.13/site-packages (from mcp>=1.10.0->fastmcp) (0.0.20)\n",
      "Requirement already satisfied: sse-starlette>=1.6.1 in /Users/selamsew/Documents/llm-zoomcampl/.venv/lib/python3.13/site-packages (from mcp>=1.10.0->fastmcp) (2.4.1)\n",
      "Requirement already satisfied: starlette>=0.27 in /Users/selamsew/Documents/llm-zoomcampl/.venv/lib/python3.13/site-packages (from mcp>=1.10.0->fastmcp) (0.47.1)\n",
      "Requirement already satisfied: uvicorn>=0.23.1 in /Users/selamsew/Documents/llm-zoomcampl/.venv/lib/python3.13/site-packages (from mcp>=1.10.0->fastmcp) (0.35.0)\n",
      "Requirement already satisfied: annotated-types>=0.6.0 in /Users/selamsew/Documents/llm-zoomcampl/.venv/lib/python3.13/site-packages (from pydantic>=2.11.7->pydantic[email]>=2.11.7->fastmcp) (0.7.0)\n",
      "Requirement already satisfied: pydantic-core==2.33.2 in /Users/selamsew/Documents/llm-zoomcampl/.venv/lib/python3.13/site-packages (from pydantic>=2.11.7->pydantic[email]>=2.11.7->fastmcp) (2.33.2)\n",
      "Requirement already satisfied: typing-extensions>=4.12.2 in /Users/selamsew/Documents/llm-zoomcampl/.venv/lib/python3.13/site-packages (from pydantic>=2.11.7->pydantic[email]>=2.11.7->fastmcp) (4.14.1)\n",
      "Requirement already satisfied: typing-inspection>=0.4.0 in /Users/selamsew/Documents/llm-zoomcampl/.venv/lib/python3.13/site-packages (from pydantic>=2.11.7->pydantic[email]>=2.11.7->fastmcp) (0.4.1)\n",
      "Requirement already satisfied: sniffio>=1.1 in /Users/selamsew/Documents/llm-zoomcampl/.venv/lib/python3.13/site-packages (from anyio->httpx>=0.28.1->fastmcp) (1.3.1)\n",
      "Requirement already satisfied: jsonschema-specifications>=2023.03.6 in /Users/selamsew/Documents/llm-zoomcampl/.venv/lib/python3.13/site-packages (from jsonschema>=4.20.0->mcp>=1.10.0->fastmcp) (2025.4.1)\n",
      "Requirement already satisfied: referencing>=0.28.4 in /Users/selamsew/Documents/llm-zoomcampl/.venv/lib/python3.13/site-packages (from jsonschema>=4.20.0->mcp>=1.10.0->fastmcp) (0.36.2)\n",
      "Requirement already satisfied: rpds-py>=0.7.1 in /Users/selamsew/Documents/llm-zoomcampl/.venv/lib/python3.13/site-packages (from jsonschema>=4.20.0->mcp>=1.10.0->fastmcp) (0.26.0)\n",
      "Requirement already satisfied: email-validator>=2.0.0 in /Users/selamsew/Documents/llm-zoomcampl/.venv/lib/python3.13/site-packages (from pydantic[email]>=2.11.7->fastmcp) (2.2.0)\n",
      "Requirement already satisfied: dnspython>=2.0.0 in /Users/selamsew/Documents/llm-zoomcampl/.venv/lib/python3.13/site-packages (from email-validator>=2.0.0->pydantic[email]>=2.11.7->fastmcp) (2.7.0)\n",
      "Requirement already satisfied: markdown-it-py>=2.2.0 in /Users/selamsew/Documents/llm-zoomcampl/.venv/lib/python3.13/site-packages (from rich>=13.9.4->fastmcp) (3.0.0)\n",
      "Requirement already satisfied: pygments<3.0.0,>=2.13.0 in /Users/selamsew/Documents/llm-zoomcampl/.venv/lib/python3.13/site-packages (from rich>=13.9.4->fastmcp) (2.19.2)\n",
      "Requirement already satisfied: mdurl~=0.1 in /Users/selamsew/Documents/llm-zoomcampl/.venv/lib/python3.13/site-packages (from markdown-it-py>=2.2.0->rich>=13.9.4->fastmcp) (0.1.2)\n",
      "Requirement already satisfied: click>=7.0 in /Users/selamsew/Documents/llm-zoomcampl/.venv/lib/python3.13/site-packages (from uvicorn>=0.23.1->mcp>=1.10.0->fastmcp) (8.2.1)\n",
      "Requirement already satisfied: cffi>=1.14 in /Users/selamsew/Documents/llm-zoomcampl/.venv/lib/python3.13/site-packages (from cryptography->authlib>=1.5.2->fastmcp) (1.17.1)\n",
      "Requirement already satisfied: pycparser in /Users/selamsew/Documents/llm-zoomcampl/.venv/lib/python3.13/site-packages (from cffi>=1.14->cryptography->authlib>=1.5.2->fastmcp) (2.22)\n",
      "Note: you may need to restart the kernel to use updated packages.\n"
     ]
    }
   ],
   "source": [
    "%pip install fastmcp"
   ]
  },
  {
   "cell_type": "markdown",
   "id": "4f498b8c",
   "metadata": {},
   "source": [
    "# `Q3-Answer -> 2.10.5`"
   ]
  },
  {
   "cell_type": "markdown",
   "id": "07ad03b3",
   "metadata": {},
   "source": [
    "### Q4. Simple MCP Server\n",
    "\n",
    "A simple MCP server from the documentation looks like that:\n",
    "\n"
   ]
  },
  {
   "cell_type": "markdown",
   "id": "e2552bba",
   "metadata": {},
   "source": [
    "# weather_server.py\n",
    "``` python \n",
    "from fastmcp import FastMCP\n",
    "\n",
    "mcp = FastMCP(\"Demo 🚀\")\n",
    "\n",
    "@mcp.tool\n",
    "def add(a: int, b: int) -> int:\n",
    "    \"\"\"Add two numbers\"\"\"\n",
    "    return a + b\n",
    "\n",
    "if __name__ == \"__main__\":\n",
    "    mcp.run()\n",
    "```  "
   ]
  },
  {
   "cell_type": "markdown",
   "id": "4a9b265e",
   "metadata": {},
   "source": [
    "### For our case\n",
    "\n",
    "``` python\n",
    "def get_weather(city: str) -> float:\n",
    "    \"\"\"\n",
    "    Retrieves the temperature for a specified city.\n",
    "\n",
    "    Parameters:\n",
    "        city (str): The name of the city for which to retrieve weather data.\n",
    "\n",
    "    Returns:\n",
    "        float: The temperature associated with the city.\n",
    "    \"\"\"\n",
    "    city = city.strip().lower()\n",
    "\n",
    "    if city in known_weather_data:\n",
    "        return known_weather_data[city]\n",
    "\n",
    "    return round(random.uniform(-5, 35), 1)\n",
    "\n",
    "\n",
    "def set_weather(city: str, temp: float) -> None:\n",
    "    \"\"\"\n",
    "    Sets the temperature for a specified city.\n",
    "\n",
    "    Parameters:\n",
    "        city (str): The name of the city for which to set the weather data.\n",
    "        temp (float): The temperature to associate with the city.\n",
    "\n",
    "    Returns:\n",
    "        str: A confirmation string 'OK' indicating successful update.\n",
    "    \"\"\"\n",
    "    city = city.strip().lower()\n",
    "    known_weather_data[city] = temp\n",
    "    return 'OK'\n",
    "\n",
    "```"
   ]
  },
  {
   "cell_type": "markdown",
   "id": "44349e85",
   "metadata": {},
   "source": [
    "### I'm using `weather_server.py` and `mcp_client.py` from this point forward"
   ]
  },
  {
   "cell_type": "markdown",
   "id": "1f9d287a",
   "metadata": {},
   "source": [
    "# `Q4: Answer -> http`"
   ]
  },
  {
   "cell_type": "code",
   "execution_count": 9,
   "id": "36f474cd",
   "metadata": {},
   "outputs": [
    {
     "name": "stdout",
     "output_type": "stream",
     "text": [
      "Requirement already satisfied: requests in /Users/selamsew/Documents/llm-zoomcampl/.venv/lib/python3.13/site-packages (2.32.4)\n",
      "Requirement already satisfied: charset_normalizer<4,>=2 in /Users/selamsew/Documents/llm-zoomcampl/.venv/lib/python3.13/site-packages (from requests) (3.4.2)\n",
      "Requirement already satisfied: idna<4,>=2.5 in /Users/selamsew/Documents/llm-zoomcampl/.venv/lib/python3.13/site-packages (from requests) (3.10)\n",
      "Requirement already satisfied: urllib3<3,>=1.21.1 in /Users/selamsew/Documents/llm-zoomcampl/.venv/lib/python3.13/site-packages (from requests) (2.5.0)\n",
      "Requirement already satisfied: certifi>=2017.4.17 in /Users/selamsew/Documents/llm-zoomcampl/.venv/lib/python3.13/site-packages (from requests) (2025.7.14)\n",
      "Note: you may need to restart the kernel to use updated packages.\n"
     ]
    }
   ],
   "source": [
    "%pip install requests"
   ]
  },
  {
   "cell_type": "markdown",
   "id": "43c01329",
   "metadata": {},
   "source": [
    "# `Q5-Answer`\n",
    "\n",
    "```json\n",
    "\n",
    "{\n",
    "  \"jsonrpc\": \"2.0\",\n",
    "  \"id\": 3,\n",
    "  \"result\": {\n",
    "    \"result\": 20.0\n",
    "  }\n",
    "}\n",
    "```"
   ]
  },
  {
   "cell_type": "markdown",
   "id": "d34d29a1",
   "metadata": {},
   "source": [
    "# `Q6-Answer`\n",
    "\n",
    "### `mcp_client.py` will show this output.\n",
    "\n",
    "```json\n",
    "\n",
    "Available tools: [Tool(name='get_weather_tool', title=None, description=None, inputSchema={'properties': {'city': {'title': 'City', 'type': 'string'}}, 'required': ['city'], 'type': 'object'}, outputSchema={'properties': {'result': {'title': 'Result', 'type': 'number'}}, 'required': ['result'], 'title': '_WrappedResult', 'type': 'object', 'x-fastmcp-wrap-result': True}, annotations=None, meta=None), Tool(name='set_weather_tool', title=None, description=None, inputSchema={'properties': {'city': {'title': 'City', 'type': 'string'}, 'temp': {'title': 'Temp', 'type': 'number'}}, 'required': ['city', 'temp'], 'type': 'object'}, outputSchema={'properties': {'result': {'title': 'Result', 'type': 'string'}}, 'required': ['result'], 'title': '_WrappedResult', 'type': 'object', 'x-fastmcp-wrap-result': True}, annotations=None, meta=None)]\n",
    "Weather in Berlin: CallToolResult(content=[TextContent(type='text', text='20.0', annotations=None, meta=None)], structured_content={'result': 20.0}, data=20.0, is_error=False)\n",
    "Set weather response: CallToolResult(content=[TextContent(type='text', text='OK', annotations=None, meta=None)], structured_content={'result': 'OK'}, data='OK', is_error=False)\n",
    "Weather in Paris: CallToolResult(content=[TextContent(type='text', text='25.5', annotations=None, meta=None)], structured_content={'result': 25.5}, data=25.5, is_error=False)\n",
    "\n",
    "```"
   ]
  }
 ],
 "metadata": {
  "kernelspec": {
   "display_name": ".venv",
   "language": "python",
   "name": "python3"
  },
  "language_info": {
   "codemirror_mode": {
    "name": "ipython",
    "version": 3
   },
   "file_extension": ".py",
   "mimetype": "text/x-python",
   "name": "python",
   "nbconvert_exporter": "python",
   "pygments_lexer": "ipython3",
   "version": "3.13.5"
  }
 },
 "nbformat": 4,
 "nbformat_minor": 5
}
