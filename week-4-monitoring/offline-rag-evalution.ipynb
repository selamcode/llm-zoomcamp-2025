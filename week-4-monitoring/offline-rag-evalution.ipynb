{
 "cells": [
  {
   "cell_type": "markdown",
   "id": "2120ce06",
   "metadata": {},
   "source": [
    "### Load Documents\n",
    "\n",
    "- Loads a JSON file (`documents-with-ids.json`) containing documents with unique IDs used for RAG."
   ]
  },
  {
   "cell_type": "code",
   "execution_count": null,
   "id": "fd0b2c1e",
   "metadata": {},
   "outputs": [
    {
     "name": "stdout",
     "output_type": "stream",
     "text": [
      "Loaded 948 documents\n"
     ]
    }
   ],
   "source": [
    "import requests\n",
    "\n",
    "# make sure this is the raw so the response can return the right Json format\n",
    "docs_url = \"https://raw.githubusercontent.com/DataTalksClub/llm-zoomcamp/refs/heads/main/03-evaluation/eval/documents-with-ids.json\"\n",
    "response = requests.get(docs_url)\n",
    "\n",
    "if response.status_code == 200:\n",
    "    # loading documents\n",
    "    documents = response.json()\n",
    "    print(f\"Loaded {len(documents)} documents\")\n",
    "else:\n",
    "    print(f\"Failed to get documents, status code: {response.status_code}\")\n"
   ]
  },
  {
   "cell_type": "markdown",
   "id": "7f6b7d69",
   "metadata": {},
   "source": []
  }
 ],
 "metadata": {
  "kernelspec": {
   "display_name": "base",
   "language": "python",
   "name": "python3"
  },
  "language_info": {
   "codemirror_mode": {
    "name": "ipython",
    "version": 3
   },
   "file_extension": ".py",
   "mimetype": "text/x-python",
   "name": "python",
   "nbconvert_exporter": "python",
   "pygments_lexer": "ipython3",
   "version": "3.9.13"
  }
 },
 "nbformat": 4,
 "nbformat_minor": 5
}
