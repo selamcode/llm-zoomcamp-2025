{
 "cells": [
  {
   "cell_type": "markdown",
   "id": "e1e3b268",
   "metadata": {},
   "source": [
    "### What is vector seach?\n",
    "\n",
    "Vector search leverages machine learning (ML) to capture the meaning and context of unstructured data, including text and images, transforming it into a numeric representation. Frequently used for semantic search, vector search finds similar data using approximate nearest neighbor (ANN) algorithms. Compared to traditional keyword search, vector search yields more relevant results and executes faster.\n",
    "\n",
    "`semantic search`\n",
    " is a search method that focuses on understanding the meaning and intent behind a user's search query, rather than just matching keywords.\n",
    "\n",
    "`Vector search` is a technique where text (or images, code, etc.) is converted into numerical vectors, and search is done by comparing the similarity of vectors — instead of matching words.\n",
    "\n",
    "```It lets you search by meaning, not just keywords.```\n",
    "\n"
   ]
  },
  {
   "cell_type": "markdown",
   "id": "bac13c24",
   "metadata": {},
   "source": [
    "### What is an Embedding?\n",
    "\n",
    "To apply `vector search` we need to embed the unstructured data we want to perform our vector search on.\n",
    "\n",
    "An `embedding` is just a list of numbers that represents the meaning of your text.\n",
    "\n",
    "for example\n",
    "\n",
    "``` \"The cat is cute\" → [0.12, -0.44, 0.91, ..., 0.03] ```"
   ]
  },
  {
   "cell_type": "markdown",
   "id": "4e3fc0ae",
   "metadata": {},
   "source": [
    "### What is an Embedding Model?\n",
    "An embedding model is a special AI model that creates these embeddings.\n",
    "\n",
    "It takes text like this:\n",
    "\n",
    "\n",
    "``` \"The cat is cute\" ```\n",
    "\n",
    "And turns it into something like this:\n",
    "\n",
    "``` [0.12, -0.44, 0.91, ..., 0.03] ```  \n",
    "\n",
    "You can think of the embedding model as:\n",
    "\n",
    "A translator that turns words into vectors (math) that computers can search, compare, and rank.\n"
   ]
  },
  {
   "cell_type": "markdown",
   "id": "7ba03652",
   "metadata": {},
   "source": [
    "After vectorizing our data, we can perform operations like similarity search. Tools like Qdrant help by storing and indexing these vectors for fast and efficient retrieval."
   ]
  },
  {
   "cell_type": "markdown",
   "id": "ceb21fe3",
   "metadata": {},
   "source": [
    "### What is Qdrant?\n",
    "\n",
    "Qdrant “is a vector similarity search engine that provides a production-ready service with a convenient API to store, search, and manage points (i.e. vectors) with an additional payload.” You can think of the payloads as additional pieces of information that can help you hone in on your search and also receive useful information that you can give to your users.\n",
    "\n",
    "Qdrant’s Role:\n",
    "\n",
    "- Qdrant is a vector database.\n",
    "\n",
    "    It can:\n",
    "\n",
    "    ✅ Store vectors (and associated metadata, aka “payload”)\n",
    "\n",
    "    ✅ Index them efficiently\n",
    "\n",
    "    ✅ Search them by similarity (e.g. cosine similarity)\n",
    "\n",
    "    ✅ Filter results using metadata (e.g. filter by language, category, etc.)\n",
    "\n"
   ]
  },
  {
   "cell_type": "markdown",
   "id": "4701dcc8",
   "metadata": {},
   "source": [
    "### Qdrant Vs Elasticsearch\n",
    "\n",
    "`Qdrant` and `Elasticsearch` differ in how they index and search data:\n",
    "\n",
    "`Elasticsearch` is optimized for keyword-based search, using inverted indexes to match exact terms or phrases.\n",
    "\n",
    "`Qdrant`, on the other hand, is designed for semantic search, using vector indexes to find similar meanings rather than exact words.\n",
    "\n",
    "#### `Even Simpler Version`:\n",
    "\n",
    "`Elasticsearch` finds documents by matching words.\n",
    "`Qdrant` finds documents by matching meaning.`"
   ]
  },
  {
   "cell_type": "markdown",
   "id": "78170a3c",
   "metadata": {},
   "source": [
    "### Let's start working with qdrant.\n",
    "\n",
    "`quickstart`\n",
    "\n",
    "- Use the following link to quickly set up you Qdrant.\n",
    "\n",
    "https://qdrant.tech/documentation/quickstart/"
   ]
  },
  {
   "cell_type": "markdown",
   "id": "8926273a",
   "metadata": {},
   "source": [
    "### Set up python client \n",
    "\n",
    "- install required library\n",
    "\n",
    "        ```pip install -q \"qdrant-client[fastembed]>=1.14.2\"```\n",
    "\n",
    "- It provides a client interface so your Python code can easily talk to the Qdrant server via its API.\n"
   ]
  },
  {
   "cell_type": "code",
   "execution_count": null,
   "id": "36066e61",
   "metadata": {},
   "outputs": [],
   "source": []
  },
  {
   "cell_type": "markdown",
   "id": "88d15ea1",
   "metadata": {},
   "source": []
  }
 ],
 "metadata": {
  "kernelspec": {
   "display_name": "base",
   "language": "python",
   "name": "python3"
  },
  "language_info": {
   "codemirror_mode": {
    "name": "ipython",
    "version": 3
   },
   "file_extension": ".py",
   "mimetype": "text/x-python",
   "name": "python",
   "nbconvert_exporter": "python",
   "pygments_lexer": "ipython3",
   "version": "3.9.13"
  }
 },
 "nbformat": 4,
 "nbformat_minor": 5
}
