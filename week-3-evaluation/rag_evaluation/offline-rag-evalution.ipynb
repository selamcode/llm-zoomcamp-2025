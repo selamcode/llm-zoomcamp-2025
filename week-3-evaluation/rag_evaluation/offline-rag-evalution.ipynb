{
  "cells": [
    {
      "cell_type": "markdown",
      "id": "2120ce06",
      "metadata": {},
      "source": [
        "### Load documents with IDs\n",
        "\n",
        "- Loads a JSON file (`documents-with-ids.json`) containing documents with unique IDs used for RAG."
      ]
    },
    {
      "cell_type": "code",
      "execution_count": 1,
      "id": "fd0b2c1e",
      "metadata": {},
      "outputs": [],
      "source": [
        "import requests\n",
        "import pandas as pd\n",
        "\n",
        "url_prefix = 'https://raw.githubusercontent.com/DataTalksClub/llm-zoomcamp/main/03-evaluation/search_evaluation/'\n",
        "\n",
        "docs_url = url_prefix + 'documents-with-ids.json'\n",
        "documents = requests.get(docs_url).json()\n",
        "\n",
        "ground_truth_url = url_prefix + 'ground-truth-data.csv'\n",
        "df_ground_truth = pd.read_csv(ground_truth_url)\n",
        "ground_truth = df_ground_truth.to_dict(orient='records')"
      ]
    },
    {
      "cell_type": "code",
      "execution_count": 2,
      "id": "3451cac1",
      "metadata": {},
      "outputs": [
        {
          "data": {
            "text/plain": [
              "{'text': 'It depends on your background and previous experience with modules. It is expected to require about 5 - 15 hours per week. [source1] [source2]\\nYou can also calculate it yourself using this data and then update this answer.',\n",
              " 'section': 'General course-related questions',\n",
              " 'question': 'Course - \\u200b\\u200bHow many hours per week am I expected to spend on this  course?',\n",
              " 'course': 'data-engineering-zoomcamp',\n",
              " 'id': 'ea739c65'}"
            ]
          },
          "execution_count": 2,
          "metadata": {},
          "output_type": "execute_result"
        }
      ],
      "source": [
        "# sample of the orginal FAQ\n",
        "\n",
        "documents[10]"
      ]
    },
    {
      "cell_type": "code",
      "execution_count": 3,
      "id": "f8260815",
      "metadata": {},
      "outputs": [
        {
          "name": "stdout",
          "output_type": "stream",
          "text": [
            "At id 'c02e79ef' we have\n",
            "The purpose of this document is to capture frequently asked technical questions\n",
            "The exact day and hour of the course will be 15th Jan 2024 at 17h00. The course will start with the first  “Office Hours'' live.1\n",
            "Subscribe to course public Google Calendar (it works from Desktop only).\n",
            "Register before the course starts using this link.\n",
            "Join the course Telegram channel with announcements.\n",
            "Don’t forget to register in DataTalks.Club's Slack and join the channel.\n"
          ]
        }
      ],
      "source": [
        "# lets create a map (dict) id to text\n",
        "doc_idx = {d['id']: d for d in documents}\n",
        "\n",
        "# here text is the answers to the questions\n",
        "sample_data = doc_idx['c02e79ef']['text']\n",
        "print(f'At id \\'c02e79ef\\' we have\\n{sample_data}')"
      ]
    },
    {
      "cell_type": "markdown",
      "id": "55857e53",
      "metadata": {},
      "source": [
        "> now that we the data we want, it needs to be `indexed`."
      ]
    },
    {
      "cell_type": "markdown",
      "id": "4687bbbd",
      "metadata": {},
      "source": [
        "### Index Data\n",
        "\n",
        "#### Indexing:\n",
        "\n",
        "Is the process of storing data in a structured way that allows for fast and efficient retrieval.\n",
        "\n",
        "So let's use `elasticsearch` here.\n"
      ]
    },
    {
      "cell_type": "markdown",
      "id": "ba83cb96",
      "metadata": {},
      "source": [
        "Step 1: Pick a Transformer Model\n"
      ]
    },
    {
      "cell_type": "code",
      "execution_count": 4,
      "id": "ca09f895",
      "metadata": {},
      "outputs": [],
      "source": [
        "from sentence_transformers import SentenceTransformer\n",
        "model_name = 'multi-qa-MiniLM-L6-cos-v1'\n",
        "model = SentenceTransformer(model_name)"
      ]
    },
    {
      "cell_type": "markdown",
      "id": "bb04a752",
      "metadata": {},
      "source": [
        "### What did we do in this step?\n",
        "\n",
        "#### Picked a Transformer Model\n",
        "\n",
        "- This is a bi-encoder model trained for semantic similarity (e.g., question–answer retrieval)\n",
        "- It turns input text into a 384-dimensional vector.\n",
        "- You chose this so that instead of using exact words, you can compare meanings."
      ]
    },
    {
      "cell_type": "markdown",
      "id": "e387d78a",
      "metadata": {},
      "source": [
        "### Step 2: Connect to Elasticsearch"
      ]
    },
    {
      "cell_type": "code",
      "execution_count": 5,
      "id": "71e77891",
      "metadata": {},
      "outputs": [],
      "source": [
        "from elasticsearch import Elasticsearch\n",
        "es_client = Elasticsearch('http://localhost:9200')"
      ]
    },
    {
      "cell_type": "code",
      "execution_count": 6,
      "id": "f3a02bbe",
      "metadata": {},
      "outputs": [
        {
          "data": {
            "text/plain": [
              "ObjectApiResponse({'acknowledged': True, 'shards_acknowledged': True, 'index': 'course-questions'})"
            ]
          },
          "execution_count": 6,
          "metadata": {},
          "output_type": "execute_result"
        }
      ],
      "source": [
        "index_settings = {\n",
        "    \"settings\": {\n",
        "        \"number_of_shards\": 1,\n",
        "        \"number_of_replicas\": 0\n",
        "    },\n",
        "    \"mappings\": {\n",
        "        \"properties\": {\n",
        "            \"text\": {\"type\": \"text\"},\n",
        "            \"section\": {\"type\": \"text\"},\n",
        "            \"question\": {\"type\": \"text\"},\n",
        "            \"course\": {\"type\": \"keyword\"},\n",
        "            \"id\": {\"type\": \"keyword\"},\n",
        "            \"question_text_vector\": {\n",
        "                \"type\": \"dense_vector\",\n",
        "                \"dims\": 384,\n",
        "                \"index\": True,\n",
        "                \"similarity\": \"cosine\"\n",
        "            }\n",
        "        }\n",
        "    }\n",
        "}\n",
        "\n",
        "# setting the name of the Elasticsearch index\n",
        "index_name = \"course-questions\"\n",
        "\n",
        "# This deletes the existing index named \"course-questions\" if it already exists.\n",
        "# for the purpose of index exist error, we can find a better way of dealing with this\n",
        "es_client.indices.delete(index=index_name, ignore_unavailable=True)\n",
        "\n",
        "# This creates a new index named \"course-questions\" using the settings and mappings defined in index_settings.\n",
        "es_client.indices.create(index=index_name, body=index_settings)\n"
      ]
    },
    {
      "cell_type": "markdown",
      "id": "54034977",
      "metadata": {},
      "source": [
        "### Step 3: Define and Create the Index\n",
        "\n",
        "#### Think of the index like this:\n",
        "\n",
        "> An index in Elasticsearch is like a database table that's been created with a structure (`settings` + `mappings`) but no data yet.\n",
        "\n",
        "- At creation, it’s empty, just a “container” with rules.\n",
        "- You can then send documents into it, one by one or in bulk.\n",
        "- As long as each document matches the mapping rules (e.g., `question_text_vector` must be a list of 384 floats), it will be accepted."
      ]
    },
    {
      "cell_type": "markdown",
      "id": "73d13156",
      "metadata": {},
      "source": [
        "### Now lets prepare and send out data to our index (database)\n",
        "\n",
        "- for prgress bar we will use the `tqdm`\n",
        "    - `tqdm.auto` automatically decides the best way to show the progress bar"
      ]
    },
    {
      "cell_type": "code",
      "execution_count": 7,
      "id": "e51147a3",
      "metadata": {},
      "outputs": [
        {
          "data": {
            "application/vnd.jupyter.widget-view+json": {
              "model_id": "fa0c8dff071a4b0d82dcfdfdccebbefb",
              "version_major": 2,
              "version_minor": 0
            },
            "text/plain": [
              "  0%|          | 0/948 [00:00<?, ?it/s]"
            ]
          },
          "metadata": {},
          "output_type": "display_data"
        }
      ],
      "source": [
        "from tqdm.auto import tqdm\n",
        "\n",
        "for doc in tqdm(documents):\n",
        "    question = doc['question']\n",
        "    text = doc['text']\n",
        "    doc['question_text_vector'] = model.encode(question + ' ' + text)\n",
        "\n",
        "    es_client.index(index=index_name, document=doc)"
      ]
    },
    {
      "cell_type": "markdown",
      "id": "25b56952",
      "metadata": {},
      "source": [
        "- You take the question and text fields,\n",
        "\n",
        "- Concatenate them,\n",
        "\n",
        "- Encode the result using your transformer model, producing a vector,\n",
        "\n",
        "- Store that vector inside the doc under the question_text_vector key.\n",
        "\n",
        "- You send this updated document to Elasticsearch."
      ]
    },
    {
      "cell_type": "markdown",
      "id": "f8d31cfd",
      "metadata": {},
      "source": [
        "> Now that we have our knowledge DB, it's time to perforem different actions on it\n",
        "\n"
      ]
    },
    {
      "cell_type": "markdown",
      "id": "f2fc666c",
      "metadata": {},
      "source": [
        "### Retrieval \n",
        "- searching in the knowledge db"
      ]
    },
    {
      "cell_type": "code",
      "execution_count": 8,
      "id": "64fc9400",
      "metadata": {},
      "outputs": [],
      "source": [
        "# field: the vector field to search in (e.g., 'question_text_vector')\n",
        "# vector: the query vector you’re searching for\n",
        "# course: filters results only to this course (e.g., \"data-engineering\")\n",
        "\n",
        "def elastic_search_knn(field, vector, course):\n",
        "\n",
        "    knn = {\n",
        "        \"field\": field,\n",
        "        \"query_vector\": vector,\n",
        "        \"k\": 5, # top 5 \n",
        "        \"num_candidates\": 10000, # Elasticsearch looks at up to 10,000 docs to find the best 5 (k). This improves quality.\n",
        "        # filter: only search documents that belong to the\n",
        "        \"filter\": {\n",
        "            \"term\": {\n",
        "                \"course\": course\n",
        "            }\n",
        "        }\n",
        "    }\n",
        "\n",
        "    # _source: only return these fields in the result (not everything), to keep it clean.\n",
        "    search_query = {\n",
        "        \"knn\": knn,\n",
        "        \"_source\": [\"text\", \"section\", \"question\", \"course\", \"id\"]\n",
        "    }\n",
        "\n",
        "    # Runs the search in Elasticsearch using the query we just built.\n",
        "    es_results = es_client.search(\n",
        "        index=index_name,\n",
        "        body=search_query\n",
        "    )\n",
        "    \n",
        "    result_docs = []\n",
        "    \n",
        "    \n",
        "    # ['hits']['hits'] is a list of  list of individual matched documents.\n",
        "    for hit in es_results['hits']['hits']:\n",
        "        result_docs.append(hit['_source'])\n",
        "\n",
        "    return result_docs\n",
        "\n",
        "# prepare your query\n",
        "def question_text_vector_knn(q):\n",
        "    \n",
        "    # get the question text and course from the input q\n",
        "    question = q['question']\n",
        "    course = q['course']\n",
        "\n",
        "    \n",
        "    # use your transformer model to turn the question into a vector\n",
        "    v_q = model.encode(question)\n",
        "\n",
        "    return elastic_search_knn('question_text_vector', v_q, course)"
      ]
    },
    {
      "cell_type": "markdown",
      "id": "62aa8505",
      "metadata": {},
      "source": [
        "### knn (k-nearest neighbors)\n",
        "\n",
        "`knn` - In Elasticsearch, starting from version 8.0+, there's built-in support for k-NN (k-nearest neighbors) search on dense vectors.\n",
        "\n",
        "```json\n",
        "\"knn\": {\n",
        "    \"field\": \"question_text_vector\",\n",
        "    \"query_vector\": [...],\n",
        "    \"k\": 5,\n",
        "    \"num_candidates\": 10000,\n",
        "    \"filter\": {\n",
        "        \"term\": {\"course\": \"search101\"}\n",
        "    }\n",
        "}\n",
        "\n",
        "```\n",
        "this is Elasticsearch-specific syntax for dense vector search (using their built-in k-NN engine like HNSW).\n",
        "\n",
        "So:\n",
        "\n",
        "- `field` tells Elasticsearch which vector field to compare.\n",
        "\n",
        "- `query_vector` is the encoded input vector.\n",
        "\n",
        "- `k` is how many similar results you want.\n",
        "\n",
        "- `num_candidates` affects performance/quality.\n",
        "\n",
        "- `filter` lets you limit the search (e.g., by course).\n",
        "\n",
        "\n",
        "### What is `['hits']['hits']`?\n",
        "\n",
        "When you run a search in Elasticsearch, the response is a nested JSON object. It looks something like this:\n",
        "\n",
        "```json\n",
        "{\n",
        "  \"hits\": {\n",
        "    \"total\": 123,\n",
        "    \"hits\": [\n",
        "      {\"_source\": {...}},  // 1st result\n",
        "      {\"_source\": {...}},  // 2nd result\n",
        "      ...\n",
        "    ]\n",
        "  }\n",
        "}\n",
        "\n",
        "```\n",
        "So:\n",
        "\n",
        "- `es_results['hits']` → gives you the whole section of search results.\n",
        "\n",
        "- `es_results['hits']['hits']` → gives you just the list of individual matched documents.\n",
        "\n",
        "Then inside each hit, the actual document is found under `['_source']`.\n"
      ]
    },
    {
      "cell_type": "markdown",
      "id": "ea1559fd",
      "metadata": {},
      "source": [
        "### 🧠 Important point\n",
        "\n",
        "- The `model` is not doing the search.\n",
        "\n",
        "- `knn` is not doing the embedding.\n",
        "\n",
        "They’re separate, but used together:\n",
        "\n",
        "   -  `Model` = turns input → vector.\n",
        "\n",
        "   -  `k-NN` = finds vectors most similar to it\n",
        "\n",
        "\n",
        "\n",
        "##### Now that we have our knowledge DB and the way we do search on it (`knn`), let's test it."
      ]
    },
    {
      "cell_type": "code",
      "execution_count": 9,
      "id": "d889e037",
      "metadata": {},
      "outputs": [
        {
          "data": {
            "text/plain": [
              "[{'text': 'Everything is recorded, so you won’t miss anything. You will be able to ask your questions for office hours in advance and we will cover them during the live stream. Also, you can always ask questions in Slack.',\n",
              "  'section': 'General course-related questions',\n",
              "  'question': 'What if I miss a session?',\n",
              "  'course': 'machine-learning-zoomcamp',\n",
              "  'id': '5170565b'},\n",
              " {'text': 'The course videos are pre-recorded, you can start watching the course right now.\\nWe will also occasionally have office hours - live sessions where we will answer your questions. The office hours sessions are recorded too.\\nYou can see the office hours as well as the pre-recorded course videos in the course playlist on YouTube.',\n",
              "  'section': 'General course-related questions',\n",
              "  'question': 'Is it going to be live? When?',\n",
              "  'course': 'machine-learning-zoomcamp',\n",
              "  'id': '39fda9f0'},\n",
              " {'text': '(Hrithik Kumar Advani)',\n",
              "  'section': '2. Machine Learning for Regression',\n",
              "  'question': 'Useful Resource for Missing Data Treatment\\nhttps://www.kaggle.com/code/parulpandey/a-guide-to-handling-missing-values-in-python/notebook',\n",
              "  'course': 'machine-learning-zoomcamp',\n",
              "  'id': '81b8e8d0'},\n",
              " {'text': \"Problem description\\nThe accuracy and the loss are both still the same or nearly the same while training.\\nSolution description\\nIn the homework, you should set class_mode='binary' while reading the data.\\nAlso, problem occurs when you choose the wrong optimizer, batch size, or learning rate\\nAdded by Ekaterina Kutovaia\",\n",
              "  'section': '8. Neural Networks and Deep Learning',\n",
              "  'question': 'The same accuracy on epochs',\n",
              "  'course': 'machine-learning-zoomcamp',\n",
              "  'id': '7d11d5ce'},\n",
              " {'text': \"Yes, it's possible. See the previous answer.\",\n",
              "  'section': 'General course-related questions',\n",
              "  'question': 'Will I get a certificate if I missed the midterm project?',\n",
              "  'course': 'machine-learning-zoomcamp',\n",
              "  'id': '1d644223'}]"
            ]
          },
          "execution_count": 9,
          "metadata": {},
          "output_type": "execute_result"
        }
      ],
      "source": [
        "question_text_vector_knn(dict(\n",
        "    question='Are sessions recorded if I miss one?',\n",
        "    course='machine-learning-zoomcamp'\n",
        "))"
      ]
    },
    {
      "cell_type": "markdown",
      "id": "4fac80fd",
      "metadata": {},
      "source": [
        "#### Now we have retrival working let go the next step. using the llm to give smarter answer. "
      ]
    },
    {
      "cell_type": "markdown",
      "id": "1d5325b4",
      "metadata": {},
      "source": [
        "###"
      ]
    },
    {
      "cell_type": "markdown",
      "id": "05743da5",
      "metadata": {},
      "source": [
        "### The RAG Flow\n",
        "\n",
        "> Take a question → find related answers (knn search) → feed both to GPT (llm) → get a smart, grounded response."
      ]
    },
    {
      "cell_type": "markdown",
      "id": "c50c4823",
      "metadata": {},
      "source": [
        "#### Let prepare the `prompt` for our llm model. This will shape the answer we get at the final result."
      ]
    },
    {
      "cell_type": "code",
      "execution_count": 10,
      "id": "958fab45",
      "metadata": {},
      "outputs": [],
      "source": [
        "# query: the user’s question (a string)\n",
        "# search_results: a list of documents returned from Elasticsearch\n",
        "def build_prompt(query, search_results):\n",
        "    prompt_template = \"\"\"\n",
        "You're a course teaching assistant. Answer the QUESTION based on the CONTEXT from the FAQ database.\n",
        "Use only the facts from the CONTEXT when answering the QUESTION.\n",
        "\n",
        "QUESTION: {question}\n",
        "\n",
        "CONTEXT: \n",
        "{context}\n",
        "\"\"\".strip() # strip to remove a place whitespaces at the start and end of a string\n",
        "\n",
        "    context = \"\"\n",
        "    \n",
        "    # from the list of documents we get from Elasticsearch (after knn), get the secion question and text fields\n",
        "    # so we can use them as a context\n",
        "    for doc in search_results:\n",
        "        context = context + f\"section: {doc['section']}\\nquestion: {doc['question']}\\nanswer: {doc['text']}\\n\\n\"\n",
        "    \n",
        "    # format the prompt, the .format will help as insert the variables in the {}\n",
        "    prompt = prompt_template.format(question=query, context=context).strip()\n",
        "    return prompt"
      ]
    },
    {
      "cell_type": "markdown",
      "id": "325af770",
      "metadata": {},
      "source": [
        "We buidl the promp function which gives us a nicely formated formated query for the llm. Now lets get do the communication with LLM (chatgpt)."
      ]
    },
    {
      "cell_type": "code",
      "execution_count": 11,
      "id": "ec03131f",
      "metadata": {},
      "outputs": [],
      "source": [
        "from openai import OpenAI\n",
        "\n",
        "client = OpenAI()\n",
        "\n",
        "def llm(prompt, model='gpt-3.5-turbo-1106'):\n",
        "    \n",
        "    response = client.chat.completions.create(\n",
        "        model=model,\n",
        "        messages=[{\"role\": \"user\", \"content\": prompt}]\n",
        "    )\n",
        "    print\n",
        "    \n",
        "    return response.choices[0].message.content"
      ]
    },
    {
      "cell_type": "markdown",
      "id": "c8b5bef0",
      "metadata": {},
      "source": [
        "#### now lets investigate the code."
      ]
    },
    {
      "cell_type": "code",
      "execution_count": 12,
      "id": "05977824",
      "metadata": {},
      "outputs": [
        {
          "name": "stdout",
          "output_type": "stream",
          "text": [
            "\n",
            "The type of reponse:\n",
            "\n",
            "<class 'openai.types.chat.chat_completion.ChatCompletion'>\n",
            "\n",
            "Our repsonse object looks like this:\n",
            "\n",
            "{'id': 'chatcmpl-BuWHzIdcpfo0zpXC02fSVnuZTJISi', 'choices': [{'finish_reason': 'stop', 'index': 0, 'logprobs': None, 'message': {'content': 'Hello! How are you today? Is there anything I can help you with?', 'refusal': None, 'role': 'assistant', 'annotations': [], 'audio': None, 'function_call': None, 'tool_calls': None}}], 'created': 1752810187, 'model': 'gpt-3.5-turbo-1106', 'object': 'chat.completion', 'service_tier': 'default', 'system_fingerprint': 'fp_982035f36f', 'usage': {'completion_tokens': 16, 'prompt_tokens': 8, 'total_tokens': 24, 'completion_tokens_details': {'accepted_prediction_tokens': 0, 'audio_tokens': 0, 'reasoning_tokens': 0, 'rejected_prediction_tokens': 0}, 'prompt_tokens_details': {'audio_tokens': 0, 'cached_tokens': 0}}}\n",
            "\n",
            "This goes in the object tree of datastructures get what we need, which is the chat reponse:\n",
            "\n",
            "Hello! How are you today? Is there anything I can help you with?\n"
          ]
        }
      ],
      "source": [
        "# example\n",
        "response = client.chat.completions.create(model='gpt-3.5-turbo-1106', messages=[{\"role\": \"user\", \"content\": \"hi\"}])\n",
        "\n",
        "print(\"\\nThe type of reponse:\\n\")\n",
        "print(type(response))\n",
        "\n",
        "print(\"\\nOur repsonse object looks like this:\\n\")\n",
        "print(response.model_dump())\n",
        "\n",
        "print(\"\\nThis goes in the object tree of datastructures get what we need, which is the chat reponse:\\n\")\n",
        "print(response.choices[0].message.content)"
      ]
    },
    {
      "cell_type": "markdown",
      "id": "b6ac844a",
      "metadata": {},
      "source": [
        "### How we accessed the `<class 'openai.types.chat.chat_completion.ChatCompletion'>` object repsonse \n",
        "```\n",
        "response\n",
        "├── choices (list)\n",
        "│   └── [0]|\n",
        "│       └── message (dict)\n",
        "│           └── content → 🟩 \"Hello! How can I assist you today?\"\n",
        "\n",
        "```"
      ]
    },
    {
      "cell_type": "markdown",
      "id": "2c07dec3",
      "metadata": {},
      "source": [
        "### role field\n",
        "- `system` and `user`\n",
        "\n",
        "`\"system\"`: Tells the assistant how to answer (the behavior or style). (we are telling it in our prompt, but we could also set that using the system role).\n",
        "\n",
        "`\"user\"`: Gives the assistant what to answer (the question or input).\n",
        "\n",
        "- The assistant replies based on both the system’s instructions and the user’s input."
      ]
    },
    {
      "cell_type": "code",
      "execution_count": 13,
      "id": "cefd04e1",
      "metadata": {},
      "outputs": [
        {
          "name": "stdout",
          "output_type": "stream",
          "text": [
            "Paris.\n"
          ]
        }
      ],
      "source": [
        "# example\n",
        "client = OpenAI()\n",
        "\n",
        "messages = [\n",
        "    {\"role\": \"system\", \"content\": \"You are a friendly assistant who replies with short answers.\"},\n",
        "    {\"role\": \"user\", \"content\": \"What's the capital of France?\"}\n",
        "]\n",
        "\n",
        "response = client.chat.completions.create(\n",
        "    model=\"gpt-3.5-turbo-1106\",\n",
        "    messages=messages\n",
        ")\n",
        "print(response.choices[0].message.content)"
      ]
    },
    {
      "cell_type": "markdown",
      "id": "aa6855a5",
      "metadata": {},
      "source": [
        "### now we ahve the `search using knn` and `llm response` functions, the only missing is a function that combines these two and provide a final result."
      ]
    },
    {
      "cell_type": "code",
      "execution_count": 14,
      "id": "fdc52e77",
      "metadata": {},
      "outputs": [],
      "source": [
        "def rag(query: dict, model=\"gpt-3.5-turbo-1106\") -> str:\n",
        "    \n",
        "    # get top k answers\n",
        "    search_results = question_text_vector_knn(query)\n",
        "    \n",
        "    # build prompt, using question and search result\n",
        "    prompt = build_prompt(query['question'], search_results)\n",
        "    \n",
        "    # feed llm with prompt, and choose the model\n",
        "    answer = llm(prompt, model=model)\n",
        "    return answer"
      ]
    },
    {
      "cell_type": "markdown",
      "id": "778bcde8",
      "metadata": {},
      "source": [
        "Now lets check our `rag` function (rag search):"
      ]
    },
    {
      "cell_type": "code",
      "execution_count": 15,
      "id": "e4a7b04c",
      "metadata": {},
      "outputs": [
        {
          "data": {
            "text/plain": [
              "{'question': 'Can I enroll in the course after it starts?',\n",
              " 'course': 'data-engineering-zoomcamp',\n",
              " 'document': '7842b56a'}"
            ]
          },
          "execution_count": 15,
          "metadata": {},
          "output_type": "execute_result"
        }
      ],
      "source": [
        "ground_truth[10] "
      ]
    },
    {
      "cell_type": "code",
      "execution_count": 16,
      "id": "fa589b84",
      "metadata": {},
      "outputs": [
        {
          "data": {
            "text/plain": [
              "'Yes, you can enroll in the course after it starts. You are still eligible to submit homework, but be aware that there will be deadlines for turning in the final projects. After the course finishes, you can also follow the course at your own pace and continue preparing for the next cohort. However, you can only get a certificate if you finish the course with a \"live\" cohort.'"
            ]
          },
          "execution_count": 16,
          "metadata": {},
          "output_type": "execute_result"
        }
      ],
      "source": [
        "rag(ground_truth[10])"
      ]
    },
    {
      "cell_type": "markdown",
      "id": "4b91ce14",
      "metadata": {},
      "source": [
        "### Now we have a working RAG system, it's time to evauate using evaluating metrics\n",
        "\n",
        "#### offline-evaluation 1 :  Cosine Similarity Metric\n",
        "\n",
        "Rember in the past lessons that we used the dot product of vectors the see the similarity between then, so lets see that here again."
      ]
    },
    {
      "cell_type": "code",
      "execution_count": 17,
      "id": "53bc8596",
      "metadata": {},
      "outputs": [
        {
          "data": {
            "text/plain": [
              "0.7591169"
            ]
          },
          "execution_count": 17,
          "metadata": {},
          "output_type": "execute_result"
        }
      ],
      "source": [
        "answer_orig = 'Yes, sessions are recorded if you miss one. Everything is recorded, allowing you to catch up on any missed content. Additionally, you can ask questions in advance for office hours and have them addressed during the live stream. You can also ask questions in Slack.'\n",
        "answer_llm = 'Everything is recorded, so you won’t miss anything. You will be able to ask your questions for office hours in advance and we will cover them during the live stream. Also, you can always ask questions in Slack.'\n",
        "\n",
        "v_llm = model.encode(answer_llm)\n",
        "v_orig = model.encode(answer_orig)\n",
        "\n",
        "v_llm.dot(v_orig)"
      ]
    },
    {
      "cell_type": "code",
      "execution_count": 18,
      "id": "38bc2aa3",
      "metadata": {},
      "outputs": [
        {
          "data": {
            "text/plain": [
              "{'question': 'When does the course begin?',\n",
              " 'course': 'data-engineering-zoomcamp',\n",
              " 'document': 'c02e79ef'}"
            ]
          },
          "execution_count": 18,
          "metadata": {},
          "output_type": "execute_result"
        }
      ],
      "source": [
        "ground_truth[0]"
      ]
    },
    {
      "cell_type": "code",
      "execution_count": 19,
      "id": "86a21c8a",
      "metadata": {},
      "outputs": [
        {
          "data": {
            "text/plain": [
              "4627"
            ]
          },
          "execution_count": 19,
          "metadata": {},
          "output_type": "execute_result"
        }
      ],
      "source": [
        "\n",
        "len(ground_truth)"
      ]
    },
    {
      "cell_type": "code",
      "execution_count": 20,
      "id": "1c35a712",
      "metadata": {},
      "outputs": [],
      "source": [
        "answers = {}"
      ]
    },
    {
      "cell_type": "markdown",
      "id": "61ffa6fe",
      "metadata": {},
      "source": [
        "#####  Here let limit it 20 question, so we don't waste time and token"
      ]
    },
    {
      "cell_type": "code",
      "execution_count": 21,
      "id": "7691a7c1",
      "metadata": {},
      "outputs": [
        {
          "name": "stderr",
          "output_type": "stream",
          "text": [
            "100%|██████████| 20/20 [00:18<00:00,  1.07it/s]\n"
          ]
        }
      ],
      "source": [
        "from tqdm import tqdm\n",
        "\n",
        "answers = {}\n",
        "\n",
        "for i, rec in enumerate(tqdm(ground_truth[:20])):\n",
        "    if i in answers:\n",
        "        continue\n",
        "\n",
        "    \n",
        "    answer_llm = rag(rec)  # Generate LLM-based answer\n",
        "    doc_id = rec['document']  # Get the original document ID from the CSV\n",
        "    original_doc = doc_idx[doc_id] # Look up the original document by ID\n",
        "    answer_orig = original_doc['text'] # Get the original answer text\n",
        "\n",
        "    answers[i] = {\n",
        "        'id':i,\n",
        "        'answer_llm': answer_llm,\n",
        "        'answer_orig': answer_orig,\n",
        "        'document': doc_id,\n",
        "        'question': rec['question'],\n",
        "        'course': rec['course'],\n",
        "    }\n"
      ]
    },
    {
      "cell_type": "markdown",
      "id": "fa3e339b",
      "metadata": {},
      "source": [
        "#### Now lets update the ground_truth"
      ]
    },
    {
      "cell_type": "code",
      "execution_count": 22,
      "id": "f82e35d4",
      "metadata": {},
      "outputs": [],
      "source": [
        "# using length 20 \n",
        "results_gpt4o = [None] * 20\n",
        "\n",
        "for i, val in answers.items():\n",
        "    results_gpt4o[i] = val.copy()\n",
        "    results_gpt4o[i].update(ground_truth[i])"
      ]
    },
    {
      "cell_type": "code",
      "execution_count": 23,
      "id": "ef40e43f",
      "metadata": {},
      "outputs": [
        {
          "name": "stdout",
          "output_type": "stream",
          "text": [
            "[{'id': 0, 'answer_llm': 'The course will begin on the 15th of January, 2024, at 17h00.', 'answer_orig': \"The purpose of this document is to capture frequently asked technical questions\\nThe exact day and hour of the course will be 15th Jan 2024 at 17h00. The course will start with the first  “Office Hours'' live.1\\nSubscribe to course public Google Calendar (it works from Desktop only).\\nRegister before the course starts using this link.\\nJoin the course Telegram channel with announcements.\\nDon’t forget to register in DataTalks.Club's Slack and join the channel.\", 'document': 'c02e79ef', 'question': 'When does the course begin?', 'course': 'data-engineering-zoomcamp'}, {'id': 1, 'answer_llm': \"You can get the course schedule by subscribing to the course public Google Calendar, registering before the course starts using the provided link, and joining the course Telegram channel with announcements. Additionally, don’t forget to register in DataTalks.Club's Slack and join the channel to stay updated on the schedule.\", 'answer_orig': \"The purpose of this document is to capture frequently asked technical questions\\nThe exact day and hour of the course will be 15th Jan 2024 at 17h00. The course will start with the first  “Office Hours'' live.1\\nSubscribe to course public Google Calendar (it works from Desktop only).\\nRegister before the course starts using this link.\\nJoin the course Telegram channel with announcements.\\nDon’t forget to register in DataTalks.Club's Slack and join the channel.\", 'document': 'c02e79ef', 'question': 'How can I get the course schedule?', 'course': 'data-engineering-zoomcamp'}, {'id': 2, 'answer_llm': 'The link for course registration is provided in the answer to the question \"Course - When will the course start?\" It is recommended to register before the course starts using the provided link.', 'answer_orig': \"The purpose of this document is to capture frequently asked technical questions\\nThe exact day and hour of the course will be 15th Jan 2024 at 17h00. The course will start with the first  “Office Hours'' live.1\\nSubscribe to course public Google Calendar (it works from Desktop only).\\nRegister before the course starts using this link.\\nJoin the course Telegram channel with announcements.\\nDon’t forget to register in DataTalks.Club's Slack and join the channel.\", 'document': 'c02e79ef', 'question': 'What is the link for course registration?', 'course': 'data-engineering-zoomcamp'}, {'id': 3, 'answer_llm': \"To receive course announcements, you can subscribe to the course public Google Calendar (desktop only), register before the course starts using a provided link, and join the course Telegram channel for announcements. You should also register in DataTalks.Club's Slack and join the channel to stay updated.\", 'answer_orig': \"The purpose of this document is to capture frequently asked technical questions\\nThe exact day and hour of the course will be 15th Jan 2024 at 17h00. The course will start with the first  “Office Hours'' live.1\\nSubscribe to course public Google Calendar (it works from Desktop only).\\nRegister before the course starts using this link.\\nJoin the course Telegram channel with announcements.\\nDon’t forget to register in DataTalks.Club's Slack and join the channel.\", 'document': 'c02e79ef', 'question': 'How can I receive course announcements?', 'course': 'data-engineering-zoomcamp'}, {'id': 4, 'answer_llm': \"To join the Slack channel, you would need to register in DataTalks.Club's Slack and join the channel.\", 'answer_orig': \"The purpose of this document is to capture frequently asked technical questions\\nThe exact day and hour of the course will be 15th Jan 2024 at 17h00. The course will start with the first  “Office Hours'' live.1\\nSubscribe to course public Google Calendar (it works from Desktop only).\\nRegister before the course starts using this link.\\nJoin the course Telegram channel with announcements.\\nDon’t forget to register in DataTalks.Club's Slack and join the channel.\", 'document': 'c02e79ef', 'question': 'Where do I join the Slack channel?', 'course': 'data-engineering-zoomcamp'}, {'id': 5, 'answer_llm': 'You can find the prerequisites for this course on the GitHub page under the data-engineering-zoomcamp#prerequisites section.', 'answer_orig': 'GitHub - DataTalksClub data-engineering-zoomcamp#prerequisites', 'document': '1f6520ca', 'question': 'Where can I find the prerequisites for this course?', 'course': 'data-engineering-zoomcamp'}, {'id': 6, 'answer_llm': 'To check the prerequisites for this course, you can refer to the GitHub repository \"DataTalksClub data-engineering-zoomcamp#prerequisites.\"', 'answer_orig': 'GitHub - DataTalksClub data-engineering-zoomcamp#prerequisites', 'document': '1f6520ca', 'question': 'How do I check the prerequisites for this course?', 'course': 'data-engineering-zoomcamp'}, {'id': 7, 'answer_llm': 'The course prerequisites are listed on the GitHub page for the DataTalksClub data-engineering-zoomcamp under the #prerequisites section.', 'answer_orig': 'GitHub - DataTalksClub data-engineering-zoomcamp#prerequisites', 'document': '1f6520ca', 'question': 'Where are the course prerequisites listed?', 'course': 'data-engineering-zoomcamp'}, {'id': 8, 'answer_llm': \"The requirements for joining the course include registering before the course starts, joining the course Telegram channel and DataTalks.Club's Slack, and subscribing to the course public Google Calendar. There are no specific prerequisites mentioned for joining the course.\", 'answer_orig': 'GitHub - DataTalksClub data-engineering-zoomcamp#prerequisites', 'document': '1f6520ca', 'question': 'What are the requirements for joining this course?', 'course': 'data-engineering-zoomcamp'}, {'id': 9, 'answer_llm': 'The list of prerequisites for the course can be found in the GitHub repository under the \"DataTalksClub data-engineering-zoomcamp#prerequisites\" section.', 'answer_orig': 'GitHub - DataTalksClub data-engineering-zoomcamp#prerequisites', 'document': '1f6520ca', 'question': 'Where is the list of prerequisites for the course?', 'course': 'data-engineering-zoomcamp'}, {'id': 10, 'answer_llm': \"Yes, you can enroll in the course after it starts. Even if you don't register, you're still eligible to submit the homeworks. However, be aware that there will be deadlines for turning in the final projects, so it's recommended not to leave everything for the last minute.\", 'answer_orig': \"Yes, even if you don't register, you're still eligible to submit the homeworks.\\nBe aware, however, that there will be deadlines for turning in the final projects. So don't leave everything for the last minute.\", 'document': '7842b56a', 'question': 'Can I enroll in the course after it starts?', 'course': 'data-engineering-zoomcamp'}, {'id': 11, 'answer_llm': \"Late registration is possible for the Data Engineering Bootcamp, and even if you don't register, you are still eligible to submit the homeworks. However, late submissions of homework are not allowed.\", 'answer_orig': \"Yes, even if you don't register, you're still eligible to submit the homeworks.\\nBe aware, however, that there will be deadlines for turning in the final projects. So don't leave everything for the last minute.\", 'document': '7842b56a', 'question': 'Is late registration possible?', 'course': 'data-engineering-zoomcamp'}, {'id': 12, 'answer_llm': \"No, late submissions of homework are not allowed. However, even if you join the course late, you are still eligible to submit the homeworks. Be aware that there will be deadlines for turning in the final projects, so it's recommended not to leave everything for the last minute.\", 'answer_orig': \"Yes, even if you don't register, you're still eligible to submit the homeworks.\\nBe aware, however, that there will be deadlines for turning in the final projects. So don't leave everything for the last minute.\", 'document': '7842b56a', 'question': 'Am I eligible to submit homework if I join late?', 'course': 'data-engineering-zoomcamp'}, {'id': 13, 'answer_llm': 'Yes, there are deadlines for turning in the final projects. It is important not to leave everything for the last minute.', 'answer_orig': \"Yes, even if you don't register, you're still eligible to submit the homeworks.\\nBe aware, however, that there will be deadlines for turning in the final projects. So don't leave everything for the last minute.\", 'document': '7842b56a', 'question': 'Are there deadlines for final projects if I join late?', 'course': 'data-engineering-zoomcamp'}, {'id': 14, 'answer_llm': \"No, you cannot submit all assignments at the end of the course if you start late. Late submissions of homework are not allowed, but you can still submit the homework after the due date as long as the form is still open. Additionally, there will be deadlines for turning in the final projects, so it's important not to leave everything for the last minute.\", 'answer_orig': \"Yes, even if you don't register, you're still eligible to submit the homeworks.\\nBe aware, however, that there will be deadlines for turning in the final projects. So don't leave everything for the last minute.\", 'document': '7842b56a', 'question': 'Can I submit all assignments at the end of the course if I start late?', 'course': 'data-engineering-zoomcamp'}, {'id': 15, 'answer_llm': 'Based on the information provided, you do not need to wait for a confirmation email after registering for the Data Engineering Bootcamp. Registration is not necessary to start learning and submitting homework, and it is not checked against any registered list. Additionally, you can still join the course after the start date and are eligible to submit the homeworks, but there will be deadlines for turning in the final projects.', 'answer_orig': \"You don't need it. You're accepted. You can also just start learning and submitting homework without registering. It is not checked against any registered list. Registration is just to gauge interest before the start date.\", 'document': '0bbf41ec', 'question': 'When will I receive the confirmation email after registering for the Data Engineering Bootcamp?', 'course': 'data-engineering-zoomcamp'}, {'id': 16, 'answer_llm': 'No, you do not need the confirmation email to start the Data Engineering Bootcamp. Registration is just to gauge interest, and you can start learning and submitting homework without registering.', 'answer_orig': \"You don't need it. You're accepted. You can also just start learning and submitting homework without registering. It is not checked against any registered list. Registration is just to gauge interest before the start date.\", 'document': '0bbf41ec', 'question': 'Do I need the confirmation email to start the Data Engineering Bootcamp?', 'course': 'data-engineering-zoomcamp'}, {'id': 17, 'answer_llm': 'No, you can begin learning and submitting homework without registering for the Data Engineering Bootcamp. Registration is just to gauge interest before the start date, and it is not checked against any registered list.', 'answer_orig': \"You don't need it. You're accepted. You can also just start learning and submitting homework without registering. It is not checked against any registered list. Registration is just to gauge interest before the start date.\", 'document': '0bbf41ec', 'question': 'Can I begin learning and submitting homework without registering for the Data Engineering Bootcamp?', 'course': 'data-engineering-zoomcamp'}, {'id': 18, 'answer_llm': \"No, registration for the Data Engineering Bootcamp is not mandatory to start the course. You can start learning and submitting homework without registering, as registration is just to gauge interest before the start date. Even if you don't register, you're still eligible to submit the homeworks.\", 'answer_orig': \"You don't need it. You're accepted. You can also just start learning and submitting homework without registering. It is not checked against any registered list. Registration is just to gauge interest before the start date.\", 'document': '0bbf41ec', 'question': 'Is registration for the Data Engineering Bootcamp mandatory to start the course?', 'course': 'data-engineering-zoomcamp'}, {'id': 19, 'answer_llm': 'The purpose of registering for the Data Engineering Bootcamp is to gauge interest before the start date. Registration is not mandatory, and even those who don\\'t register are still eligible to submit homeworks. There is also a \"live\" cohort for the certification, but it is not mandatory to participate in it.', 'answer_orig': \"You don't need it. You're accepted. You can also just start learning and submitting homework without registering. It is not checked against any registered list. Registration is just to gauge interest before the start date.\", 'document': '0bbf41ec', 'question': 'What is the purpose of registering for the Data Engineering Bootcamp if it is not mandatory?', 'course': 'data-engineering-zoomcamp'}]\n"
          ]
        }
      ],
      "source": [
        "len(ground_truth)\n",
        "print(results_gpt4o)"
      ]
    },
    {
      "cell_type": "code",
      "execution_count": 24,
      "id": "ce8207d2",
      "metadata": {},
      "outputs": [],
      "source": [
        "import pandas as pd\n",
        "df_gpt4o = pd.DataFrame(results_gpt4o)"
      ]
    },
    {
      "cell_type": "code",
      "execution_count": 25,
      "id": "d0f92398",
      "metadata": {},
      "outputs": [
        {
          "name": "stderr",
          "output_type": "stream",
          "text": [
            "huggingface/tokenizers: The current process just got forked, after parallelism has already been used. Disabling parallelism to avoid deadlocks...\n",
            "To disable this warning, you can either:\n",
            "\t- Avoid using `tokenizers` before the fork if possible\n",
            "\t- Explicitly set the environment variable TOKENIZERS_PARALLELISM=(true | false)\n"
          ]
        },
        {
          "name": "stdout",
          "output_type": "stream",
          "text": [
            "mkdir: data: File exists\n"
          ]
        }
      ],
      "source": [
        "!mkdir data"
      ]
    },
    {
      "cell_type": "code",
      "execution_count": 26,
      "id": "38766b0b",
      "metadata": {},
      "outputs": [],
      "source": [
        "df_gpt4o.to_csv('data/results-gpt4o.csv', index=False)"
      ]
    },
    {
      "cell_type": "code",
      "execution_count": 27,
      "id": "b41726c6",
      "metadata": {},
      "outputs": [
        {
          "name": "stdout",
          "output_type": "stream",
          "text": [
            "0bbf41ec\n"
          ]
        }
      ],
      "source": [
        "print(doc_id)"
      ]
    },
    {
      "cell_type": "code",
      "execution_count": 28,
      "id": "c50941a7",
      "metadata": {},
      "outputs": [],
      "source": [
        "print(ground_truth)"
      ]
    },
    {
      "cell_type": "markdown",
      "id": "184bde75",
      "metadata": {},
      "source": [
        "#### We have the LLM answer and ground tuth data, `answers` contains both and other metadatas. So, lets start evaluating."
      ]
    },
    {
      "cell_type": "markdown",
      "id": "3d109029",
      "metadata": {},
      "source": [
        "## Evaluating GPT 3.5"
      ]
    },
    {
      "cell_type": "code",
      "execution_count": 29,
      "id": "fd373ccb",
      "metadata": {},
      "outputs": [
        {
          "data": {
            "text/plain": [
              "'No, you cannot enroll in the course after it starts. It is recommended to register before the course starts to be able to participate fully and submit homeworks on time.'"
            ]
          },
          "execution_count": 29,
          "metadata": {},
          "output_type": "execute_result"
        }
      ],
      "source": [
        "rag(ground_truth[10], model='gpt-3.5-turbo')"
      ]
    },
    {
      "cell_type": "markdown",
      "id": "3d62e94e",
      "metadata": {},
      "source": [
        "#### Helper function to map a function to a sequence with progress bar \n",
        "- Uses a thread pool to parallelize the processing,\n",
        "- showing progress with tqdm."
      ]
    },
    {
      "cell_type": "code",
      "execution_count": 30,
      "id": "33818575",
      "metadata": {},
      "outputs": [],
      "source": [
        "from tqdm.auto import tqdm\n",
        "\n",
        "from concurrent.futures import ThreadPoolExecutor\n",
        "\n",
        "pool = ThreadPoolExecutor(max_workers=6)\n",
        "\n",
        "def map_progress(pool, seq, f):\n",
        "    results = []\n",
        "\n",
        "    with tqdm(total=len(seq)) as progress:\n",
        "        futures = []\n",
        "\n",
        "        for el in seq:\n",
        "            future = pool.submit(f, el)\n",
        "            future.add_done_callback(lambda p: progress.update())\n",
        "            futures.append(future)\n",
        "\n",
        "        for future in futures:\n",
        "            result = future.result()\n",
        "            results.append(result)\n",
        "\n",
        "    return results"
      ]
    },
    {
      "cell_type": "markdown",
      "id": "5cf29d04",
      "metadata": {},
      "source": [
        "##### Process a single record \n",
        "- Given a record from ground_truth and a model name,\n",
        "- it calls the RAG function to generate an answer,\n",
        "- retrieves the original document text,\n",
        "- and returns a dictionary with relevant information."
      ]
    },
    {
      "cell_type": "code",
      "execution_count": 31,
      "id": "c1d61f8a",
      "metadata": {},
      "outputs": [],
      "source": [
        "def process_record(rec):\n",
        "    model = 'gpt-3.5-turbo'\n",
        "    answer_llm = rag(rec, model=model)\n",
        "    \n",
        "    doc_id = rec['document']\n",
        "    original_doc = doc_idx[doc_id]\n",
        "    answer_orig = original_doc['text']\n",
        "\n",
        "    return {\n",
        "        'answer_llm': answer_llm,\n",
        "        'answer_orig': answer_orig,\n",
        "        'document': doc_id,\n",
        "        'question': rec['question'],\n",
        "        'course': rec['course'],\n",
        "    }"
      ]
    },
    {
      "cell_type": "code",
      "execution_count": 32,
      "id": "6f865cbe",
      "metadata": {},
      "outputs": [
        {
          "data": {
            "text/plain": [
              "{'answer_llm': 'Based on the information provided in the FAQ database, you can enroll in the course after it starts and still be eligible to submit homework. However, it is recommended not to leave everything for the last minute as there will be deadlines for turning in the final projects.',\n",
              " 'answer_orig': \"Yes, even if you don't register, you're still eligible to submit the homeworks.\\nBe aware, however, that there will be deadlines for turning in the final projects. So don't leave everything for the last minute.\",\n",
              " 'document': '7842b56a',\n",
              " 'question': 'Can I enroll in the course after it starts?',\n",
              " 'course': 'data-engineering-zoomcamp'}"
            ]
          },
          "execution_count": 32,
          "metadata": {},
          "output_type": "execute_result"
        }
      ],
      "source": [
        "process_record(ground_truth[10])"
      ]
    },
    {
      "cell_type": "code",
      "execution_count": 33,
      "id": "12d15551",
      "metadata": {},
      "outputs": [
        {
          "data": {
            "application/vnd.jupyter.widget-view+json": {
              "model_id": "0396d7ecd5ab4a06a4eb9533966a3a9a",
              "version_major": 2,
              "version_minor": 0
            },
            "text/plain": [
              "  0%|          | 0/20 [00:00<?, ?it/s]"
            ]
          },
          "metadata": {},
          "output_type": "display_data"
        }
      ],
      "source": [
        "results_gpt35 = map_progress(pool, ground_truth[:20], process_record)"
      ]
    },
    {
      "cell_type": "code",
      "execution_count": 34,
      "id": "2abb742c",
      "metadata": {},
      "outputs": [],
      "source": [
        "# save results including cosine similarity \n",
        "df_gpt35 = pd.DataFrame(results_gpt35)\n",
        "df_gpt35.to_csv('data/results-gpt35.csv', index=False)"
      ]
    },
    {
      "cell_type": "code",
      "execution_count": 35,
      "id": "7963a23e",
      "metadata": {},
      "outputs": [
        {
          "name": "stderr",
          "output_type": "stream",
          "text": [
            "huggingface/tokenizers: The current process just got forked, after parallelism has already been used. Disabling parallelism to avoid deadlocks...\n",
            "To disable this warning, you can either:\n",
            "\t- Avoid using `tokenizers` before the fork if possible\n",
            "\t- Explicitly set the environment variable TOKENIZERS_PARALLELISM=(true | false)\n"
          ]
        },
        {
          "name": "stdout",
          "output_type": "stream",
          "text": [
            "answer_llm,answer_orig,document,question,course\n",
            "\"The course will begin on 15th Jan 2024 at 17h00 with the first \"\"Office Hours\"\" live session.\",\"The purpose of this document is to capture frequently asked technical questions\n",
            "The exact day and hour of the course will be 15th Jan 2024 at 17h00. The course will start with the first  “Office Hours'' live.1\n",
            "Subscribe to course public Google Calendar (it works from Desktop only).\n",
            "Register before the course starts using this link.\n",
            "Join the course Telegram channel with announcements.\n",
            "Don’t forget to register in DataTalks.Club's Slack and join the channel.\",c02e79ef,When does the course begin?,data-engineering-zoomcamp\n",
            "\"To get the course schedule, you can check the Google Calendar, register before the course starts using the provided link, and join the course Telegram channel for announcements. The course will start on 15th Jan 2024 at 17h00 with the first \"\"Office Hours\"\" live session.\",\"The purpose of this document is to capture frequently asked technical questions\n",
            "The exact day and hour of the course will be 15th Jan 2024 at 17h00. The course will start with the first  “Office Hours'' live.1\n",
            "Subscribe to course public Google Calendar (it works from Desktop only).\n"
          ]
        }
      ],
      "source": [
        "!head data/results-gpt35.csv"
      ]
    },
    {
      "cell_type": "markdown",
      "id": "257218cb",
      "metadata": {},
      "source": [
        "### Compute similarity using dot product"
      ]
    },
    {
      "cell_type": "code",
      "execution_count": 36,
      "id": "268b58f9",
      "metadata": {},
      "outputs": [
        {
          "name": "stderr",
          "output_type": "stream",
          "text": [
            "huggingface/tokenizers: The current process just got forked, after parallelism has already been used. Disabling parallelism to avoid deadlocks...\n",
            "To disable this warning, you can either:\n",
            "\t- Avoid using `tokenizers` before the fork if possible\n",
            "\t- Explicitly set the environment variable TOKENIZERS_PARALLELISM=(true | false)\n"
          ]
        }
      ],
      "source": [
        "%pip install seaborn==0.12.2"
      ]
    },
    {
      "cell_type": "code",
      "execution_count": 37,
      "id": "a04047f1",
      "metadata": {},
      "outputs": [
        {
          "data": {
            "application/vnd.jupyter.widget-view+json": {
              "model_id": "dc32c9d739164c67a1dcda22f79e712d",
              "version_major": 2,
              "version_minor": 0
            },
            "text/plain": [
              "Computing GPT-4o similarities:   0%|          | 0/20 [00:00<?, ?it/s]"
            ]
          },
          "metadata": {},
          "output_type": "display_data"
        },
        {
          "name": "stdout",
          "output_type": "stream",
          "text": [
            "GPT-4o cosine similarity summary:\n",
            "count    20.000000\n",
            "mean      0.654056\n",
            "std       0.148185\n",
            "min       0.357151\n",
            "25%       0.554978\n",
            "50%       0.664342\n",
            "75%       0.791714\n",
            "max       0.871068\n",
            "Name: cosine, dtype: float64\n"
          ]
        },
        {
          "data": {
            "application/vnd.jupyter.widget-view+json": {
              "model_id": "26449e74e8c84595ac1bbdb0ff45e461",
              "version_major": 2,
              "version_minor": 0
            },
            "text/plain": [
              "Computing GPT-3.5 similarities:   0%|          | 0/20 [00:00<?, ?it/s]"
            ]
          },
          "metadata": {},
          "output_type": "display_data"
        },
        {
          "name": "stdout",
          "output_type": "stream",
          "text": [
            "GPT-3.5 cosine similarity summary:\n",
            "count    20.000000\n",
            "mean      0.679217\n",
            "std       0.133360\n",
            "min       0.471013\n",
            "25%       0.565509\n",
            "50%       0.654781\n",
            "75%       0.800212\n",
            "max       0.901569\n",
            "Name: cosine, dtype: float64\n",
            "Pandas version: 2.3.1\n",
            "Seaborn version: 0.12.2\n"
          ]
        },
        {
          "data": {
            "image/png": "[encoded data removed]",
            "text/plain": [
              "<Figure size 1200x600 with 1 Axes>"
            ]
          },
          "metadata": {},
          "output_type": "display_data"
        }
      ],
      "source": [
        "import numpy as np\n",
        "import matplotlib.pyplot as plt\n",
        "import seaborn as sns\n",
        "from tqdm.auto import tqdm\n",
        "\n",
        "\n",
        "# Assuming 'model.encode' is your sentence embedding function (e.g., from sentence-transformers)\n",
        "\n",
        "def compute_similarity(record):\n",
        "    \"\"\"\n",
        "    Compute cosine similarity between the original answer and the LLM answer.\n",
        "    \"\"\"\n",
        "    answer_orig = record['answer_orig']\n",
        "    answer_llm = record['answer_llm']\n",
        "    \n",
        "    v_llm = model.encode(answer_llm)\n",
        "    v_orig = model.encode(answer_orig)\n",
        "    \n",
        "    # Dot product as cosine similarity (assuming vectors are normalized)\n",
        "    return v_llm.dot(v_orig)\n",
        "\n",
        "\n",
        "# 1. Compute similarity for GPT-4o results\n",
        "results_gpt4o = df_gpt4o.to_dict(orient='records')\n",
        "\n",
        "similarity_gpt4o = []\n",
        "for record in tqdm(results_gpt4o, desc=\"Computing GPT-4o similarities\"):\n",
        "    sim = compute_similarity(record)\n",
        "    similarity_gpt4o.append(sim)\n",
        "\n",
        "df_gpt4o['cosine'] = similarity_gpt4o\n",
        "\n",
        "print(\"GPT-4o cosine similarity summary:\")\n",
        "print(df_gpt4o['cosine'].describe())\n",
        "\n",
        "\n",
        "# 2. Compute similarity for GPT-3.5 results\n",
        "results_gpt35 = df_gpt35.to_dict(orient='records')\n",
        "\n",
        "similarity_gpt35 = []\n",
        "for record in tqdm(results_gpt35, desc=\"Computing GPT-3.5 similarities\"):\n",
        "    sim = compute_similarity(record)\n",
        "    similarity_gpt35.append(sim)\n",
        "\n",
        "df_gpt35['cosine'] = similarity_gpt35\n",
        "\n",
        "print(\"GPT-3.5 cosine similarity summary:\")\n",
        "print(df_gpt35['cosine'].describe())\n",
        "\n",
        "print(\"Pandas version:\", pd.__version__)\n",
        "print(\"Seaborn version:\", sns.__version__)\n",
        "\n",
        "# Replace infinite values with NaN to avoid pandas option error\n",
        "df_gpt4o['cosine'] = df_gpt4o['cosine'].replace([np.inf, -np.inf], np.nan)\n",
        "df_gpt35['cosine'] = df_gpt35['cosine'].replace([np.inf, -np.inf], np.nan)\n",
        "\n",
        "# Drop NaNs before plotting\n",
        "plt.figure(figsize=(12, 6))\n",
        "sns.kdeplot(df_gpt4o['cosine'].dropna(), label='GPT-4o', fill=True)\n",
        "sns.kdeplot(df_gpt35['cosine'].dropna(), label='GPT-3.5', fill=True)\n",
        "\n",
        "plt.title('Cosine Similarity Distribution between Original and LLM Answers')\n",
        "plt.xlabel('Cosine Similarity')\n",
        "plt.ylabel('Density')\n",
        "plt.legend()\n",
        "plt.show()\n"
      ]
    },
    {
      "cell_type": "markdown",
      "id": "36949279",
      "metadata": {},
      "source": [
        "### What the Graph tells you:\n",
        "\n",
        "##### 1. The distribution of similarity scores\n",
        "\n",
        "- It shows how similar pairs of texts/vectors are, across your dataset.\n",
        "\n",
        "- Cosine similarity ranges from –1 to 1, but for sentence embeddings it’s usually between 0 and 1 (or just above 0), where:\n",
        "\n",
        "        - 1 = very similar\n",
        "\n",
        "        - 0 = unrelated\n",
        "\n",
        "\n",
        "##### 2. Density = frequency (smoothed)\n",
        "\n",
        "- The y-axis (density) shows how often that similarity value appears.\n",
        "\n",
        "- It’s a normalized version of frequency — the area under the curve adds up to 1."
      ]
    },
    {
      "cell_type": "code",
      "execution_count": 38,
      "id": "9bd603e8",
      "metadata": {},
      "outputs": [
        {
          "name": "stdout",
          "output_type": "stream",
          "text": [
            "Seaborn version: 0.12.2\n"
          ]
        }
      ],
      "source": [
        "print(\"Seaborn version:\", sns.__version__)"
      ]
    },
    {
      "cell_type": "markdown",
      "id": "1b12f483",
      "metadata": {},
      "source": [
        "\n",
        "### Using `LLM-as-a-Judge`"
      ]
    },
    {
      "cell_type": "code",
      "execution_count": 39,
      "id": "b7c80346",
      "metadata": {},
      "outputs": [
        {
          "data": {
            "application/vnd.jupyter.widget-view+json": {
              "model_id": "f9c1f31608894f58951944eb224921b6",
              "version_major": 2,
              "version_minor": 0
            },
            "text/plain": [
              "GPT-4 Prompt1 (Compare to original):   0%|          | 0/20 [00:00<?, ?it/s]"
            ]
          },
          "metadata": {},
          "output_type": "display_data"
        },
        {
          "data": {
            "application/vnd.jupyter.widget-view+json": {
              "model_id": "bc9d367a5887408fa03ade1780621159",
              "version_major": 2,
              "version_minor": 0
            },
            "text/plain": [
              "GPT-4 Prompt2 (Compare to question):   0%|          | 0/20 [00:00<?, ?it/s]"
            ]
          },
          "metadata": {},
          "output_type": "display_data"
        },
        {
          "data": {
            "application/vnd.jupyter.widget-view+json": {
              "model_id": "d94bcdfa2626457aa74a4452d98b1edd",
              "version_major": 2,
              "version_minor": 0
            },
            "text/plain": [
              "GPT-3.5 Prompt1 (Compare to original):   0%|          | 0/20 [00:00<?, ?it/s]"
            ]
          },
          "metadata": {},
          "output_type": "display_data"
        },
        {
          "data": {
            "application/vnd.jupyter.widget-view+json": {
              "model_id": "f2d2072ea3774719ae456f02c4977c93",
              "version_major": 2,
              "version_minor": 0
            },
            "text/plain": [
              "GPT-3.5 Prompt2 (Compare to question):   0%|          | 0/20 [00:00<?, ?it/s]"
            ]
          },
          "metadata": {},
          "output_type": "display_data"
        },
        {
          "name": "stdout",
          "output_type": "stream",
          "text": [
            "GPT-4 Prompt1 Relevance Counts:\n",
            "Relevance\n",
            "PARTLY_RELEVANT    10\n",
            "RELEVANT            9\n",
            "NON_RELEVANT        1\n",
            "Name: count, dtype: int64\n",
            "\n",
            "GPT-4 Prompt2 Relevance Counts:\n",
            "Relevance\n",
            "PARTLY_RELEVANT    11\n",
            "RELEVANT            6\n",
            "NON_RELEVANT        3\n",
            "Name: count, dtype: int64\n",
            "\n",
            "GPT-3.5 Prompt1 Relevance Counts:\n",
            "Relevance\n",
            "RELEVANT           11\n",
            "PARTLY_RELEVANT     9\n",
            "Name: count, dtype: int64\n",
            "\n",
            "GPT-3.5 Prompt2 Relevance Counts:\n",
            "Relevance\n",
            "PARTLY_RELEVANT    11\n",
            "RELEVANT            7\n",
            "NON_RELEVANT        2\n",
            "Name: count, dtype: int64\n"
          ]
        }
      ],
      "source": [
        "import json\n",
        "\n",
        "# Purpose: Evaluate the relevance of the generated answer compared to the original answer.\n",
        "# Evaluation focus: How well does the generated answer match or relate to the original answer provided?\n",
        "\n",
        "prompt1_template = \"\"\"\n",
        "You are an expert evaluator for a Retrieval-Augmented Generation (RAG) system.\n",
        "Your task is to analyze the relevance of the generated answer compared to the original answer provided.\n",
        "Based on the relevance and similarity of the generated answer to the original answer, you will classify\n",
        "it as \"NON_RELEVANT\", \"PARTLY_RELEVANT\", or \"RELEVANT\".\n",
        "\n",
        "Here is the data for evaluation:\n",
        "\n",
        "Original Answer: {answer_orig}\n",
        "Generated Question: {question}\n",
        "Generated Answer: {answer_llm}\n",
        "\n",
        "Please analyze the content and context of the generated answer in relation to the original\n",
        "answer and provide your evaluation in parsable JSON without using code blocks:\n",
        "\n",
        "{{\n",
        "  \"Relevance\": \"NON_RELEVANT\" | \"PARTLY_RELEVANT\" | \"RELEVANT\",\n",
        "  \"Explanation\": \"[Provide a brief explanation for your evaluation]\"\n",
        "}}\n",
        "\"\"\".strip()\n",
        "\n",
        "# Purpose: Evaluate the relevance of the generated answer to the given question only.\n",
        "# Evaluation focus: How well does the generated answer answer the question?\n",
        "prompt2_template = \"\"\"\n",
        "You are an expert evaluator for a Retrieval-Augmented Generation (RAG) system.\n",
        "Your task is to analyze the relevance of the generated answer to the given question.\n",
        "Based on the relevance of the generated answer, you will classify it\n",
        "as \"NON_RELEVANT\", \"PARTLY_RELEVANT\", or \"RELEVANT\".\n",
        "\n",
        "Here is the data for evaluation:\n",
        "\n",
        "Question: {question}\n",
        "Generated Answer: {answer_llm}\n",
        "\n",
        "Please analyze the content and context of the generated answer in relation to the question\n",
        "and provide your evaluation in parsable JSON without using code blocks:\n",
        "\n",
        "{{\n",
        "  \"Relevance\": \"NON_RELEVANT\" | \"PARTLY_RELEVANT\" | \"RELEVANT\",\n",
        "  \"Explanation\": \"[Provide a brief explanation for your evaluation]\"\n",
        "}}\n",
        "\"\"\".strip()\n",
        "\n",
        "def evaluate_prompt(df, prompt_template, model_name, desc):\n",
        "    records = df.to_dict(orient='records')\n",
        "    evaluations = []\n",
        "    for record in tqdm(records, desc=desc):\n",
        "        prompt = prompt_template.format(**record)\n",
        "        eval_str = llm(prompt, model=model_name)\n",
        "        evaluations.append(eval_str)\n",
        "    json_evals = []\n",
        "    for eval_str in evaluations:\n",
        "        try:\n",
        "            json_eval = json.loads(eval_str)\n",
        "        except Exception:\n",
        "            json_eval = {\"Relevance\": \"ERROR\", \"Explanation\": \"Failed to parse JSON from LLM output.\"}\n",
        "        json_evals.append(json_eval)\n",
        "    return pd.DataFrame(json_evals)\n",
        "\n",
        "# Run evaluations on GPT-4 and GPT-3.5 with both prompts\n",
        "df_eval_4_prompt1 = evaluate_prompt(df_gpt4o, prompt1_template, 'gpt-4o', \"GPT-4 Prompt1 (Compare to original)\")\n",
        "df_eval_4_prompt2 = evaluate_prompt(df_gpt4o, prompt2_template, 'gpt-4o', \"GPT-4 Prompt2 (Compare to question)\")\n",
        "\n",
        "df_eval_35_prompt1 = evaluate_prompt(df_gpt35, prompt1_template, 'gpt-3.5-turbo', \"GPT-3.5 Prompt1 (Compare to original)\")\n",
        "df_eval_35_prompt2 = evaluate_prompt(df_gpt35, prompt2_template, 'gpt-3.5-turbo', \"GPT-3.5 Prompt2 (Compare to question)\")\n",
        "\n",
        "# Show summaries\n",
        "print(\"GPT-4 Prompt1 Relevance Counts:\")\n",
        "print(df_eval_4_prompt1['Relevance'].value_counts(dropna=False))\n",
        "print(\"\\nGPT-4 Prompt2 Relevance Counts:\")\n",
        "print(df_eval_4_prompt2['Relevance'].value_counts(dropna=False))\n",
        "\n",
        "print(\"\\nGPT-3.5 Prompt1 Relevance Counts:\")\n",
        "print(df_eval_35_prompt1['Relevance'].value_counts(dropna=False))\n",
        "print(\"\\nGPT-3.5 Prompt2 Relevance Counts:\")\n",
        "print(df_eval_35_prompt2['Relevance'].value_counts(dropna=False))\n",
        "\n",
        "# Save results\n",
        "df_eval_4_prompt1.to_csv('eval_gpt4_prompt1.csv', index=False)\n",
        "df_eval_4_prompt2.to_csv('eval_gpt4_prompt2.csv', index=False)\n",
        "df_eval_35_prompt1.to_csv('eval_gpt35_prompt1.csv', index=False)\n",
        "df_eval_35_prompt2.to_csv('eval_gpt35_prompt2.csv', index=False)\n"
      ]
    },
    {
      "cell_type": "markdown",
      "id": "ccb3daa2",
      "metadata": {},
      "source": [
        "# Summary"
      ]
    },
    {
      "cell_type": "markdown",
      "id": "a5b032d7",
      "metadata": {},
      "source": [
        "### LLM as a Judge\n",
        "\n",
        "- Ask a big model like GPT-4:\n",
        "\n",
        "    \"Is this answer correct?\"\n",
        "\n",
        "It looks at:\n",
        "\n",
        "- The question\n",
        "\n",
        "- The answer your system gave\n",
        "\n",
        "- The correct (ground truth) answer\n",
        "\n",
        "It replies:\n",
        " - Correct, Wrong, or something in between.\n",
        "\n",
        "- Good for: Checking if the final answer makes sense\n",
        "- Bad side: Slower and costs more\n",
        "\n",
        "### Cosine Similarity\n",
        "\n",
        "- Turn text into numbers (embeddings)\n",
        "\n",
        "- Measure how close the retrieved text is to the correct one\n",
        "\n",
        "- Good for: Checking if your system found the right info\n",
        "- Bad side: Doesn’t check if the final answer is right\n",
        " \n",
        " \n",
        "##### Example:\n",
        "\n",
        "If the question is “What is the capital of France?”\n",
        "\n",
        "- `Cosine similarity` checks if your system found a document that mentions Paris\n",
        "\n",
        "- `LLM as a judge` checks if your answer is actually “Paris” and makes sense"
      ]
    },
    {
      "cell_type": "markdown",
      "id": "5da21e61",
      "metadata": {},
      "source": [
        "# Done!"
      ]
    },
    {
      "cell_type": "markdown",
      "id": "94a23e89",
      "metadata": {},
      "source": []
    }
  ],
  "metadata": {
    "kernelspec": {
      "display_name": "base",
      "language": "python",
      "name": "python3"
    },
    "language_info": {
      "codemirror_mode": {
        "name": "ipython",
        "version": 3
      },
      "file_extension": ".py",
      "mimetype": "text/x-python",
      "name": "python",
      "nbconvert_exporter": "python",
      "pygments_lexer": "ipython3",
      "version": "3.9.13"
    }
  },
  "nbformat": 4,
  "nbformat_minor": 5
}
