{
 "cells": [
  {
   "cell_type": "markdown",
   "id": "29a5e2f8",
   "metadata": {},
   "source": [
    "# Iterative process\n",
    "- try somoething\n",
    "- analyze where the result does ot give what you want\n",
    "- clarify instructions, give more time to think\n",
    "- redifine prompts with a batch of examples"
   ]
  },
  {
   "cell_type": "markdown",
   "id": "fd62cdf4",
   "metadata": {},
   "source": []
  }
 ],
 "metadata": {
  "language_info": {
   "name": "python"
  }
 },
 "nbformat": 4,
 "nbformat_minor": 5
}
