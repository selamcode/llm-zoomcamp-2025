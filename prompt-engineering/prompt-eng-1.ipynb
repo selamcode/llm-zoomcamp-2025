{
 "cells": [
  {
   "cell_type": "markdown",
   "id": "9882c0cb",
   "metadata": {},
   "source": [
    "# Introduction\n",
    "\n",
    "### Two types of large language models (LLMs)\n",
    "\n",
    "1. Base LLM\n",
    "2. Instruction Tuned LLM"
   ]
  },
  {
   "cell_type": "markdown",
   "id": "426f545f",
   "metadata": {},
   "source": [
    "#### Base LLM \n",
    "- Predicts next word, based on text training data.\n",
    "##### Instruction Tuned LLM\n",
    "- Tries to follow instructions\n",
    "- Fine-tune on instructions and good attempts at following those instrucitons.\n",
    "- Uses a technique called `RLHF`: Reinforcement Learning with Human FeedBack."
   ]
  },
  {
   "cell_type": "markdown",
   "id": "76728747",
   "metadata": {},
   "source": []
  }
 ],
 "metadata": {
  "language_info": {
   "name": "python"
  }
 },
 "nbformat": 4,
 "nbformat_minor": 5
}
